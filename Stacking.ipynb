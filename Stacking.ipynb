{
  "nbformat": 4,
  "nbformat_minor": 0,
  "metadata": {
    "colab": {
      "name": "Stacking.ipynb",
      "provenance": [],
      "collapsed_sections": []
    },
    "kernelspec": {
      "name": "python3",
      "display_name": "Python 3"
    },
    "language_info": {
      "name": "python"
    }
  },
  "cells": [
    {
      "cell_type": "code",
      "execution_count": null,
      "metadata": {
        "colab": {
          "base_uri": "https://localhost:8080/"
        },
        "id": "QEzS-VRdWpY5",
        "outputId": "ae661e09-2e56-4140-e329-30b2c0ed4c80"
      },
      "outputs": [
        {
          "output_type": "stream",
          "name": "stdout",
          "text": [
            "(100, 20) (100,)\n"
          ]
        }
      ],
      "source": [
        "from sklearn.datasets import make_classification\n",
        "X, y = make_classification()\n",
        "print(X.shape, y.shape)"
      ]
    },
    {
      "cell_type": "code",
      "source": [
        "print(X)"
      ],
      "metadata": {
        "colab": {
          "base_uri": "https://localhost:8080/"
        },
        "id": "vARGHKbrYFEj",
        "outputId": "c7471efc-75ee-428f-9cdf-756de1308514"
      },
      "execution_count": null,
      "outputs": [
        {
          "output_type": "stream",
          "name": "stdout",
          "text": [
            "[[-0.97955298 -1.05512195  1.09297321 ... -0.05002115  0.29321417\n",
            "  -0.95251841]\n",
            " [-0.82020814 -3.08276527 -1.10092579 ... -0.02047027  0.57682676\n",
            "  -0.43725692]\n",
            " [-1.33989042  0.13500417  0.79373116 ... -0.52739811 -1.74395003\n",
            "  -1.05671603]\n",
            " ...\n",
            " [ 0.2237795   1.79237704 -0.16559862 ...  1.68222199 -0.6251749\n",
            "   2.41993002]\n",
            " [ 0.45038332 -1.36908829  0.36802967 ... -1.0475545   1.42240585\n",
            "   1.86236753]\n",
            " [-1.63389455 -0.96127713  1.95667792 ...  1.84723611  0.73258832\n",
            "  -0.25029939]]\n"
          ]
        }
      ]
    },
    {
      "cell_type": "code",
      "source": [
        "print(y)"
      ],
      "metadata": {
        "colab": {
          "base_uri": "https://localhost:8080/"
        },
        "id": "tYcRuPmpYHx2",
        "outputId": "f1d1456a-471f-432b-8ab7-2b1ab7abf84d"
      },
      "execution_count": null,
      "outputs": [
        {
          "output_type": "stream",
          "name": "stdout",
          "text": [
            "[1 0 1 0 0 0 1 1 1 0 0 1 0 1 0 1 0 1 0 0 1 1 1 0 0 1 1 1 1 0 1 0 0 1 1 0 1\n",
            " 0 1 1 1 1 1 0 0 1 0 1 1 0 1 0 0 0 0 0 1 1 1 0 0 1 0 0 0 0 0 0 1 1 0 1 1 0\n",
            " 1 1 0 0 1 0 1 0 0 0 0 0 1 0 0 0 0 1 1 1 0 1 1 1 1 1]\n"
          ]
        }
      ]
    },
    {
      "cell_type": "code",
      "source": [
        "from sklearn.model_selection import train_test_split\n",
        "X_train, X_test, y_train, y_test = train_test_split(X, y, test_size=0.3)"
      ],
      "metadata": {
        "id": "Y9Z8U3g7W2in"
      },
      "execution_count": null,
      "outputs": []
    },
    {
      "cell_type": "code",
      "source": [
        "print(X_train)"
      ],
      "metadata": {
        "colab": {
          "base_uri": "https://localhost:8080/"
        },
        "id": "l6k5vEH6XSQ0",
        "outputId": "81302956-f9cb-4d40-f64b-b8d71866651a"
      },
      "execution_count": null,
      "outputs": [
        {
          "output_type": "stream",
          "name": "stdout",
          "text": [
            "[[-0.456529    0.56202774  0.06448003 ... -1.45101662 -0.60511779\n",
            "  -1.85090009]\n",
            " [ 0.37390482 -1.44109189 -0.8036532  ... -0.7027446   0.73291055\n",
            "   0.51755166]\n",
            " [ 1.32305537  0.50958707 -0.35236513 ... -1.71196098  0.77148663\n",
            "  -2.10678611]\n",
            " ...\n",
            " [ 0.42918831 -0.75098527  1.22467627 ... -0.90071326  0.32882816\n",
            "  -0.6402098 ]\n",
            " [ 0.91739023  1.50158246 -1.26038694 ... -0.04566766  0.21508151\n",
            "  -0.7211031 ]\n",
            " [ 1.93195413  0.44795094 -1.07641834 ... -0.4882458  -0.48778383\n",
            "   1.22584274]]\n"
          ]
        }
      ]
    },
    {
      "cell_type": "code",
      "source": [
        "print(y_train)"
      ],
      "metadata": {
        "colab": {
          "base_uri": "https://localhost:8080/"
        },
        "id": "S-Nx_Ks2X6BQ",
        "outputId": "3bb62f02-778b-468c-9ad5-09b2114d9779"
      },
      "execution_count": null,
      "outputs": [
        {
          "output_type": "stream",
          "name": "stdout",
          "text": [
            "[1 0 0 0 1 0 1 0 1 1 1 1 0 1 1 1 0 0 0 0 1 1 0 0 1 1 1 0 1 1 1 0 0 1 1 0 1\n",
            " 1 1 1 1 0 1 1 1 0 0 1 0 1 1 1 1 1 0 1 1 0 0 0 0 1 0 0 1 0 0 1 0 0]\n"
          ]
        }
      ]
    },
    {
      "cell_type": "code",
      "source": [
        "from tensorflow import keras\n",
        "from keras import layers\n",
        "\n",
        "from keras.constraints import maxnorm\n",
        "\n",
        "from keras.models import Sequential\n",
        "from keras.layers import Dense, Dropout, Activation,  Flatten, Input\n",
        "from keras.wrappers.scikit_learn import KerasClassifier"
      ],
      "metadata": {
        "id": "ZNCIfrC2Zy_5"
      },
      "execution_count": null,
      "outputs": []
    },
    {
      "cell_type": "code",
      "source": [
        "def create_model():\n",
        "    # create model\n",
        "    model = Sequential()\n",
        "    model.add(Dense(20, input_dim=20, activation=\"relu\"))\n",
        "    model.add(Dropout(0.2))\n",
        "    model.add(Flatten())\n",
        "    optimizer = keras.optimizers.RMSprop(lr=0.001)\n",
        "    model.add(Dense(units=1, activation=\"sigmoid\"))  # Compile model\n",
        "    model.compile(loss=\"binary_crossentropy\",\n",
        "                  optimizer=optimizer, metrics=[keras.metrics.AUC(), \"accuracy\"])\n",
        "    return model"
      ],
      "metadata": {
        "id": "bPEvL8Hgarpv"
      },
      "execution_count": null,
      "outputs": []
    },
    {
      "cell_type": "code",
      "source": [
        "NN_clf1 = KerasClassifier(build_fn=create_model, epochs=5, batch_size=32)\n",
        "NN_clf1._estimator_type = \"classifier\"\n",
        "NN_clf2 = KerasClassifier(build_fn=create_model, epochs=10, batch_size=32)\n",
        "NN_clf2._estimator_type = \"classifier\"\n",
        "NN_clf3=KerasClassifier(build_fn=create_model, epochs=15, batch_size= 32)\n",
        "NN_clf3._estimator_type = \"classifier\"\n",
        "NN_clf4=KerasClassifier(build_fn=create_model, epochs=20, batch_size= 32)\n",
        "NN_clf4._estimator_type = \"classifier\"\n",
        "NN_clf5=KerasClassifier(build_fn=create_model, epochs=25, batch_size= 32)\n",
        "NN_clf5._estimator_type = \"classifier\""
      ],
      "metadata": {
        "colab": {
          "base_uri": "https://localhost:8080/"
        },
        "id": "FOhS6GnnqHWH",
        "outputId": "967e3eef-a01f-4e51-839e-64c8fa3da124"
      },
      "execution_count": null,
      "outputs": [
        {
          "output_type": "stream",
          "name": "stderr",
          "text": [
            "/usr/local/lib/python3.7/dist-packages/ipykernel_launcher.py:1: DeprecationWarning: KerasClassifier is deprecated, use Sci-Keras (https://github.com/adriangb/scikeras) instead. See https://www.adriangb.com/scikeras/stable/migration.html for help migrating.\n",
            "  \"\"\"Entry point for launching an IPython kernel.\n",
            "/usr/local/lib/python3.7/dist-packages/ipykernel_launcher.py:3: DeprecationWarning: KerasClassifier is deprecated, use Sci-Keras (https://github.com/adriangb/scikeras) instead. See https://www.adriangb.com/scikeras/stable/migration.html for help migrating.\n",
            "  This is separate from the ipykernel package so we can avoid doing imports until\n",
            "/usr/local/lib/python3.7/dist-packages/ipykernel_launcher.py:5: DeprecationWarning: KerasClassifier is deprecated, use Sci-Keras (https://github.com/adriangb/scikeras) instead. See https://www.adriangb.com/scikeras/stable/migration.html for help migrating.\n",
            "  \"\"\"\n",
            "/usr/local/lib/python3.7/dist-packages/ipykernel_launcher.py:7: DeprecationWarning: KerasClassifier is deprecated, use Sci-Keras (https://github.com/adriangb/scikeras) instead. See https://www.adriangb.com/scikeras/stable/migration.html for help migrating.\n",
            "  import sys\n",
            "/usr/local/lib/python3.7/dist-packages/ipykernel_launcher.py:9: DeprecationWarning: KerasClassifier is deprecated, use Sci-Keras (https://github.com/adriangb/scikeras) instead. See https://www.adriangb.com/scikeras/stable/migration.html for help migrating.\n",
            "  if __name__ == '__main__':\n"
          ]
        }
      ]
    },
    {
      "cell_type": "code",
      "source": [
        "intermediate = [('NN1', NN_clf1), ('NN2', NN_clf2), ('NN3', NN_clf3), ('NN4', NN_clf4),\n",
        "             ('NN5', NN_clf5)]"
      ],
      "metadata": {
        "id": "FOvjvX6OrFwC"
      },
      "execution_count": null,
      "outputs": []
    },
    {
      "cell_type": "code",
      "source": [
        "intermediate"
      ],
      "metadata": {
        "colab": {
          "base_uri": "https://localhost:8080/"
        },
        "id": "ElHyDTvhrFyp",
        "outputId": "7fae6720-0b3a-4896-dfff-f737a69dbe65"
      },
      "execution_count": null,
      "outputs": [
        {
          "output_type": "execute_result",
          "data": {
            "text/plain": [
              "[('NN1', <keras.wrappers.scikit_learn.KerasClassifier at 0x7efefc9b7310>),\n",
              " ('NN2', <keras.wrappers.scikit_learn.KerasClassifier at 0x7efefc9c3310>),\n",
              " ('NN3', <keras.wrappers.scikit_learn.KerasClassifier at 0x7efefc9b7cd0>),\n",
              " ('NN4', <keras.wrappers.scikit_learn.KerasClassifier at 0x7efefc9b7e50>),\n",
              " ('NN5', <keras.wrappers.scikit_learn.KerasClassifier at 0x7efefc9b7b50>)]"
            ]
          },
          "metadata": {},
          "execution_count": 17
        }
      ]
    },
    {
      "cell_type": "code",
      "source": [
        "from sklearn.ensemble import StackingClassifier\n",
        "from sklearn.neural_network import MLPClassifier\n",
        "clf = StackingClassifier(estimators=intermediate, final_estimator=MLPClassifier())\n",
        "clf.fit(X_train, y_train)"
      ],
      "metadata": {
        "colab": {
          "base_uri": "https://localhost:8080/"
        },
        "id": "rVR9vrOBsq9R",
        "outputId": "a225131c-f478-438c-d3bc-aeb5b4e83d7d"
      },
      "execution_count": null,
      "outputs": [
        {
          "output_type": "stream",
          "name": "stderr",
          "text": [
            "/usr/local/lib/python3.7/dist-packages/keras/optimizer_v2/rmsprop.py:130: UserWarning: The `lr` argument is deprecated, use `learning_rate` instead.\n",
            "  super(RMSprop, self).__init__(name, **kwargs)\n"
          ]
        },
        {
          "output_type": "stream",
          "name": "stdout",
          "text": [
            "Epoch 1/5\n",
            "3/3 [==============================] - 1s 6ms/step - loss: 0.7386 - auc: 0.5546 - accuracy: 0.6000\n",
            "Epoch 2/5\n",
            "3/3 [==============================] - 0s 4ms/step - loss: 0.7960 - auc: 0.4371 - accuracy: 0.4286\n",
            "Epoch 3/5\n",
            "3/3 [==============================] - 0s 4ms/step - loss: 0.6584 - auc: 0.6551 - accuracy: 0.6286\n",
            "Epoch 4/5\n",
            "3/3 [==============================] - 0s 4ms/step - loss: 0.6987 - auc: 0.6001 - accuracy: 0.6143\n",
            "Epoch 5/5\n",
            "3/3 [==============================] - 0s 4ms/step - loss: 0.6902 - auc: 0.5703 - accuracy: 0.5857\n",
            "Epoch 1/10\n",
            "3/3 [==============================] - 1s 4ms/step - loss: 0.8467 - auc_1: 0.4326 - accuracy: 0.4143\n",
            "Epoch 2/10\n",
            "3/3 [==============================] - 0s 4ms/step - loss: 0.7917 - auc_1: 0.4926 - accuracy: 0.5000\n",
            "Epoch 3/10\n",
            "3/3 [==============================] - 0s 4ms/step - loss: 0.8060 - auc_1: 0.4781 - accuracy: 0.4857\n",
            "Epoch 4/10\n",
            "3/3 [==============================] - 0s 4ms/step - loss: 0.8074 - auc_1: 0.4483 - accuracy: 0.4714\n",
            "Epoch 5/10\n",
            "3/3 [==============================] - 0s 4ms/step - loss: 0.7981 - auc_1: 0.4830 - accuracy: 0.4571\n",
            "Epoch 6/10\n",
            "3/3 [==============================] - 0s 5ms/step - loss: 0.6966 - auc_1: 0.5517 - accuracy: 0.5571\n",
            "Epoch 7/10\n",
            "3/3 [==============================] - 0s 4ms/step - loss: 0.7662 - auc_1: 0.5091 - accuracy: 0.5286\n",
            "Epoch 8/10\n",
            "3/3 [==============================] - 0s 4ms/step - loss: 0.7329 - auc_1: 0.5538 - accuracy: 0.5714\n",
            "Epoch 9/10\n",
            "3/3 [==============================] - 0s 4ms/step - loss: 0.7882 - auc_1: 0.4330 - accuracy: 0.4286\n",
            "Epoch 10/10\n",
            "3/3 [==============================] - 0s 4ms/step - loss: 0.7203 - auc_1: 0.5434 - accuracy: 0.5143\n",
            "Epoch 1/15\n",
            "3/3 [==============================] - 1s 5ms/step - loss: 0.6811 - auc_2: 0.6807 - accuracy: 0.6000\n",
            "Epoch 2/15\n",
            "3/3 [==============================] - 0s 4ms/step - loss: 0.7499 - auc_2: 0.5786 - accuracy: 0.5429\n",
            "Epoch 3/15\n",
            "3/3 [==============================] - 0s 4ms/step - loss: 0.6626 - auc_2: 0.6609 - accuracy: 0.6000\n",
            "Epoch 4/15\n",
            "3/3 [==============================] - 0s 4ms/step - loss: 0.6860 - auc_2: 0.6609 - accuracy: 0.6429\n",
            "Epoch 5/15\n",
            "3/3 [==============================] - 0s 4ms/step - loss: 0.6552 - auc_2: 0.6927 - accuracy: 0.6286\n",
            "Epoch 6/15\n",
            "3/3 [==============================] - 0s 4ms/step - loss: 0.6257 - auc_2: 0.7316 - accuracy: 0.6571\n",
            "Epoch 7/15\n",
            "3/3 [==============================] - 0s 5ms/step - loss: 0.6749 - auc_2: 0.6865 - accuracy: 0.6286\n",
            "Epoch 8/15\n",
            "3/3 [==============================] - 0s 4ms/step - loss: 0.6309 - auc_2: 0.7275 - accuracy: 0.6857\n",
            "Epoch 9/15\n",
            "3/3 [==============================] - 0s 5ms/step - loss: 0.6063 - auc_2: 0.7382 - accuracy: 0.6429\n",
            "Epoch 10/15\n",
            "3/3 [==============================] - 0s 4ms/step - loss: 0.5558 - auc_2: 0.8098 - accuracy: 0.7143\n",
            "Epoch 11/15\n",
            "3/3 [==============================] - 0s 4ms/step - loss: 0.6168 - auc_2: 0.7481 - accuracy: 0.6714\n",
            "Epoch 12/15\n",
            "3/3 [==============================] - 0s 4ms/step - loss: 0.6165 - auc_2: 0.7399 - accuracy: 0.7286\n",
            "Epoch 13/15\n",
            "3/3 [==============================] - 0s 4ms/step - loss: 0.6178 - auc_2: 0.7407 - accuracy: 0.7143\n",
            "Epoch 14/15\n",
            "3/3 [==============================] - 0s 7ms/step - loss: 0.6439 - auc_2: 0.6993 - accuracy: 0.6714\n",
            "Epoch 15/15\n",
            "3/3 [==============================] - 0s 4ms/step - loss: 0.5869 - auc_2: 0.7783 - accuracy: 0.7714\n",
            "Epoch 1/20\n",
            "3/3 [==============================] - 1s 5ms/step - loss: 0.7341 - auc_3: 0.5050 - accuracy: 0.5000\n",
            "Epoch 2/20\n",
            "3/3 [==============================] - 0s 4ms/step - loss: 0.7250 - auc_3: 0.4934 - accuracy: 0.4857\n",
            "Epoch 3/20\n",
            "3/3 [==============================] - 0s 6ms/step - loss: 0.6978 - auc_3: 0.5740 - accuracy: 0.5000\n",
            "Epoch 4/20\n",
            "3/3 [==============================] - 0s 4ms/step - loss: 0.7140 - auc_3: 0.5500 - accuracy: 0.5571\n",
            "Epoch 5/20\n",
            "3/3 [==============================] - 0s 4ms/step - loss: 0.7308 - auc_3: 0.5108 - accuracy: 0.5286\n",
            "Epoch 6/20\n",
            "3/3 [==============================] - 0s 5ms/step - loss: 0.6905 - auc_3: 0.5682 - accuracy: 0.5000\n",
            "Epoch 7/20\n",
            "3/3 [==============================] - 0s 4ms/step - loss: 0.6705 - auc_3: 0.6208 - accuracy: 0.5143\n",
            "Epoch 8/20\n",
            "3/3 [==============================] - 0s 5ms/step - loss: 0.6449 - auc_3: 0.6778 - accuracy: 0.6286\n",
            "Epoch 9/20\n",
            "3/3 [==============================] - 0s 5ms/step - loss: 0.6572 - auc_3: 0.6183 - accuracy: 0.6143\n",
            "Epoch 10/20\n",
            "3/3 [==============================] - 0s 4ms/step - loss: 0.6422 - auc_3: 0.6464 - accuracy: 0.5714\n",
            "Epoch 11/20\n",
            "3/3 [==============================] - 0s 4ms/step - loss: 0.6287 - auc_3: 0.7101 - accuracy: 0.6571\n",
            "Epoch 12/20\n",
            "3/3 [==============================] - 0s 4ms/step - loss: 0.6468 - auc_3: 0.6414 - accuracy: 0.6286\n",
            "Epoch 13/20\n",
            "3/3 [==============================] - 0s 7ms/step - loss: 0.6282 - auc_3: 0.6869 - accuracy: 0.6286\n",
            "Epoch 14/20\n",
            "3/3 [==============================] - 0s 4ms/step - loss: 0.6240 - auc_3: 0.6935 - accuracy: 0.6571\n",
            "Epoch 15/20\n",
            "3/3 [==============================] - 0s 4ms/step - loss: 0.6034 - auc_3: 0.7250 - accuracy: 0.6857\n",
            "Epoch 16/20\n",
            "3/3 [==============================] - 0s 4ms/step - loss: 0.6079 - auc_3: 0.7473 - accuracy: 0.7143\n",
            "Epoch 17/20\n",
            "3/3 [==============================] - 0s 4ms/step - loss: 0.5773 - auc_3: 0.7787 - accuracy: 0.7143\n",
            "Epoch 18/20\n",
            "3/3 [==============================] - 0s 4ms/step - loss: 0.5852 - auc_3: 0.7634 - accuracy: 0.7143\n",
            "Epoch 19/20\n",
            "3/3 [==============================] - 0s 6ms/step - loss: 0.5934 - auc_3: 0.7250 - accuracy: 0.6857\n",
            "Epoch 20/20\n",
            "3/3 [==============================] - 0s 5ms/step - loss: 0.5462 - auc_3: 0.8478 - accuracy: 0.7714\n",
            "Epoch 1/25\n",
            "3/3 [==============================] - 1s 5ms/step - loss: 0.6720 - auc_4: 0.7089 - accuracy: 0.6571\n",
            "Epoch 2/25\n",
            "3/3 [==============================] - 0s 4ms/step - loss: 0.6311 - auc_4: 0.7002 - accuracy: 0.6429\n",
            "Epoch 3/25\n",
            "3/3 [==============================] - 0s 4ms/step - loss: 0.6125 - auc_4: 0.7407 - accuracy: 0.7286\n",
            "Epoch 4/25\n",
            "3/3 [==============================] - 0s 4ms/step - loss: 0.6066 - auc_4: 0.7531 - accuracy: 0.6714\n",
            "Epoch 5/25\n",
            "3/3 [==============================] - 0s 4ms/step - loss: 0.6410 - auc_4: 0.6898 - accuracy: 0.6857\n",
            "Epoch 6/25\n",
            "3/3 [==============================] - 0s 5ms/step - loss: 0.6098 - auc_4: 0.7287 - accuracy: 0.6429\n",
            "Epoch 7/25\n",
            "3/3 [==============================] - 0s 4ms/step - loss: 0.6036 - auc_4: 0.7283 - accuracy: 0.6857\n",
            "Epoch 8/25\n",
            "3/3 [==============================] - 0s 4ms/step - loss: 0.5332 - auc_4: 0.8093 - accuracy: 0.7143\n",
            "Epoch 9/25\n",
            "3/3 [==============================] - 0s 5ms/step - loss: 0.5600 - auc_4: 0.7804 - accuracy: 0.7286\n",
            "Epoch 10/25\n",
            "3/3 [==============================] - 0s 5ms/step - loss: 0.5797 - auc_4: 0.7808 - accuracy: 0.7429\n",
            "Epoch 11/25\n",
            "3/3 [==============================] - 0s 5ms/step - loss: 0.6210 - auc_4: 0.7155 - accuracy: 0.6857\n",
            "Epoch 12/25\n",
            "3/3 [==============================] - 0s 4ms/step - loss: 0.5384 - auc_4: 0.8036 - accuracy: 0.7571\n",
            "Epoch 13/25\n",
            "3/3 [==============================] - 0s 5ms/step - loss: 0.5493 - auc_4: 0.7924 - accuracy: 0.7143\n",
            "Epoch 14/25\n",
            "3/3 [==============================] - 0s 4ms/step - loss: 0.5395 - auc_4: 0.8073 - accuracy: 0.7143\n",
            "Epoch 15/25\n",
            "3/3 [==============================] - 0s 4ms/step - loss: 0.5549 - auc_4: 0.7870 - accuracy: 0.6714\n",
            "Epoch 16/25\n",
            "3/3 [==============================] - 0s 4ms/step - loss: 0.4929 - auc_4: 0.8557 - accuracy: 0.7714\n",
            "Epoch 17/25\n",
            "3/3 [==============================] - 0s 5ms/step - loss: 0.5046 - auc_4: 0.8536 - accuracy: 0.7286\n",
            "Epoch 18/25\n",
            "3/3 [==============================] - 0s 5ms/step - loss: 0.5298 - auc_4: 0.8106 - accuracy: 0.7429\n",
            "Epoch 19/25\n",
            "3/3 [==============================] - 0s 4ms/step - loss: 0.5123 - auc_4: 0.8333 - accuracy: 0.7571\n",
            "Epoch 20/25\n",
            "3/3 [==============================] - 0s 4ms/step - loss: 0.5087 - auc_4: 0.8317 - accuracy: 0.7286\n",
            "Epoch 21/25\n",
            "3/3 [==============================] - 0s 5ms/step - loss: 0.5342 - auc_4: 0.8089 - accuracy: 0.7286\n",
            "Epoch 22/25\n",
            "3/3 [==============================] - 0s 5ms/step - loss: 0.5018 - auc_4: 0.8515 - accuracy: 0.7429\n",
            "Epoch 23/25\n",
            "3/3 [==============================] - 0s 4ms/step - loss: 0.4894 - auc_4: 0.8387 - accuracy: 0.7571\n",
            "Epoch 24/25\n",
            "3/3 [==============================] - 0s 4ms/step - loss: 0.4814 - auc_4: 0.8656 - accuracy: 0.7857\n",
            "Epoch 25/25\n",
            "3/3 [==============================] - 0s 3ms/step - loss: 0.5058 - auc_4: 0.8346 - accuracy: 0.7571\n",
            "Epoch 1/5\n"
          ]
        },
        {
          "output_type": "stream",
          "name": "stderr",
          "text": [
            "/usr/local/lib/python3.7/dist-packages/keras/optimizer_v2/rmsprop.py:130: UserWarning: The `lr` argument is deprecated, use `learning_rate` instead.\n",
            "  super(RMSprop, self).__init__(name, **kwargs)\n"
          ]
        },
        {
          "output_type": "stream",
          "name": "stdout",
          "text": [
            "2/2 [==============================] - 1s 9ms/step - loss: 0.6582 - auc_5: 0.6826 - accuracy: 0.6250\n",
            "Epoch 2/5\n",
            "2/2 [==============================] - 0s 6ms/step - loss: 0.6452 - auc_5: 0.7045 - accuracy: 0.7143\n",
            "Epoch 3/5\n",
            "2/2 [==============================] - 0s 6ms/step - loss: 0.6496 - auc_5: 0.6897 - accuracy: 0.6429\n",
            "Epoch 4/5\n",
            "2/2 [==============================] - 0s 7ms/step - loss: 0.6105 - auc_5: 0.7465 - accuracy: 0.6607\n",
            "Epoch 5/5\n",
            "2/2 [==============================] - 0s 6ms/step - loss: 0.5995 - auc_5: 0.7626 - accuracy: 0.7143\n",
            "Epoch 1/5\n"
          ]
        },
        {
          "output_type": "stream",
          "name": "stderr",
          "text": [
            "/usr/local/lib/python3.7/dist-packages/keras/optimizer_v2/rmsprop.py:130: UserWarning: The `lr` argument is deprecated, use `learning_rate` instead.\n",
            "  super(RMSprop, self).__init__(name, **kwargs)\n"
          ]
        },
        {
          "output_type": "stream",
          "name": "stdout",
          "text": [
            "2/2 [==============================] - 1s 8ms/step - loss: 0.9061 - auc_6: 0.3574 - accuracy: 0.4107\n",
            "Epoch 2/5\n",
            "2/2 [==============================] - 0s 9ms/step - loss: 0.9204 - auc_6: 0.3368 - accuracy: 0.4464\n",
            "Epoch 3/5\n",
            "2/2 [==============================] - 0s 8ms/step - loss: 0.8722 - auc_6: 0.3813 - accuracy: 0.5000\n",
            "Epoch 4/5\n",
            "2/2 [==============================] - 0s 7ms/step - loss: 0.8563 - auc_6: 0.4226 - accuracy: 0.5000\n",
            "Epoch 5/5\n",
            "2/2 [==============================] - 0s 6ms/step - loss: 0.8300 - auc_6: 0.4394 - accuracy: 0.5000\n",
            "Epoch 1/5\n"
          ]
        },
        {
          "output_type": "stream",
          "name": "stderr",
          "text": [
            "/usr/local/lib/python3.7/dist-packages/keras/optimizer_v2/rmsprop.py:130: UserWarning: The `lr` argument is deprecated, use `learning_rate` instead.\n",
            "  super(RMSprop, self).__init__(name, **kwargs)\n"
          ]
        },
        {
          "output_type": "stream",
          "name": "stdout",
          "text": [
            "2/2 [==============================] - 1s 7ms/step - loss: 0.8132 - auc_7: 0.6310 - accuracy: 0.6071\n",
            "Epoch 2/5\n",
            "2/2 [==============================] - 0s 7ms/step - loss: 0.9092 - auc_7: 0.5052 - accuracy: 0.5893\n",
            "Epoch 3/5\n",
            "2/2 [==============================] - 0s 5ms/step - loss: 0.8984 - auc_7: 0.5284 - accuracy: 0.5893\n",
            "Epoch 4/5\n",
            "2/2 [==============================] - 0s 6ms/step - loss: 0.8827 - auc_7: 0.5787 - accuracy: 0.5179\n",
            "Epoch 5/5\n",
            "2/2 [==============================] - 0s 7ms/step - loss: 0.8275 - auc_7: 0.6174 - accuracy: 0.5536\n",
            "Epoch 1/5\n"
          ]
        },
        {
          "output_type": "stream",
          "name": "stderr",
          "text": [
            "/usr/local/lib/python3.7/dist-packages/keras/optimizer_v2/rmsprop.py:130: UserWarning: The `lr` argument is deprecated, use `learning_rate` instead.\n",
            "  super(RMSprop, self).__init__(name, **kwargs)\n"
          ]
        },
        {
          "output_type": "stream",
          "name": "stdout",
          "text": [
            "2/2 [==============================] - 1s 6ms/step - loss: 0.9467 - auc_8: 0.3677 - accuracy: 0.4643\n",
            "Epoch 2/5\n",
            "2/2 [==============================] - 0s 11ms/step - loss: 0.9021 - auc_8: 0.4161 - accuracy: 0.4643\n",
            "Epoch 3/5\n",
            "2/2 [==============================] - 0s 5ms/step - loss: 0.8743 - auc_8: 0.4090 - accuracy: 0.4286\n",
            "Epoch 4/5\n",
            "2/2 [==============================] - 0s 6ms/step - loss: 0.9154 - auc_8: 0.4071 - accuracy: 0.4464\n",
            "Epoch 5/5\n",
            "2/2 [==============================] - 0s 6ms/step - loss: 0.8826 - auc_8: 0.4097 - accuracy: 0.3929\n",
            "Epoch 1/5\n"
          ]
        },
        {
          "output_type": "stream",
          "name": "stderr",
          "text": [
            "/usr/local/lib/python3.7/dist-packages/keras/optimizer_v2/rmsprop.py:130: UserWarning: The `lr` argument is deprecated, use `learning_rate` instead.\n",
            "  super(RMSprop, self).__init__(name, **kwargs)\n"
          ]
        },
        {
          "output_type": "stream",
          "name": "stdout",
          "text": [
            "2/2 [==============================] - 1s 6ms/step - loss: 0.8639 - auc_9: 0.4010 - accuracy: 0.4286\n",
            "Epoch 2/5\n",
            "2/2 [==============================] - 0s 9ms/step - loss: 0.7670 - auc_9: 0.4948 - accuracy: 0.5000\n",
            "Epoch 3/5\n",
            "2/2 [==============================] - 0s 8ms/step - loss: 0.7998 - auc_9: 0.4473 - accuracy: 0.4821\n",
            "Epoch 4/5\n",
            "2/2 [==============================] - 0s 7ms/step - loss: 0.7771 - auc_9: 0.5228 - accuracy: 0.5179\n",
            "Epoch 5/5\n",
            "2/2 [==============================] - 0s 7ms/step - loss: 0.7336 - auc_9: 0.5736 - accuracy: 0.5357\n",
            "WARNING:tensorflow:5 out of the last 5 calls to <function Model.make_predict_function.<locals>.predict_function at 0x7efef28f7f80> triggered tf.function retracing. Tracing is expensive and the excessive number of tracings could be due to (1) creating @tf.function repeatedly in a loop, (2) passing tensors with different shapes, (3) passing Python objects instead of tensors. For (1), please define your @tf.function outside of the loop. For (2), @tf.function has experimental_relax_shapes=True option that relaxes argument shapes that can avoid unnecessary retracing. For (3), please refer to https://www.tensorflow.org/guide/function#controlling_retracing and https://www.tensorflow.org/api_docs/python/tf/function for  more details.\n",
            "Epoch 1/10\n"
          ]
        },
        {
          "output_type": "stream",
          "name": "stderr",
          "text": [
            "/usr/local/lib/python3.7/dist-packages/keras/optimizer_v2/rmsprop.py:130: UserWarning: The `lr` argument is deprecated, use `learning_rate` instead.\n",
            "  super(RMSprop, self).__init__(name, **kwargs)\n"
          ]
        },
        {
          "output_type": "stream",
          "name": "stdout",
          "text": [
            "2/2 [==============================] - 1s 8ms/step - loss: 0.7811 - auc_10: 0.5458 - accuracy: 0.5000\n",
            "Epoch 2/10\n",
            "2/2 [==============================] - 0s 7ms/step - loss: 0.7710 - auc_10: 0.5897 - accuracy: 0.5000\n",
            "Epoch 3/10\n",
            "2/2 [==============================] - 0s 10ms/step - loss: 0.7423 - auc_10: 0.5658 - accuracy: 0.5714\n",
            "Epoch 4/10\n",
            "2/2 [==============================] - 0s 6ms/step - loss: 0.7154 - auc_10: 0.6045 - accuracy: 0.5714\n",
            "Epoch 5/10\n",
            "2/2 [==============================] - 0s 6ms/step - loss: 0.6744 - auc_10: 0.6645 - accuracy: 0.5893\n",
            "Epoch 6/10\n",
            "2/2 [==============================] - 0s 5ms/step - loss: 0.6729 - auc_10: 0.6923 - accuracy: 0.6429\n",
            "Epoch 7/10\n",
            "2/2 [==============================] - 0s 5ms/step - loss: 0.6726 - auc_10: 0.6703 - accuracy: 0.6071\n",
            "Epoch 8/10\n",
            "2/2 [==============================] - 0s 4ms/step - loss: 0.6619 - auc_10: 0.6613 - accuracy: 0.5714\n",
            "Epoch 9/10\n",
            "2/2 [==============================] - 0s 9ms/step - loss: 0.6695 - auc_10: 0.6535 - accuracy: 0.6250\n",
            "Epoch 10/10\n",
            "2/2 [==============================] - 0s 8ms/step - loss: 0.6554 - auc_10: 0.6987 - accuracy: 0.6607\n",
            "WARNING:tensorflow:6 out of the last 6 calls to <function Model.make_predict_function.<locals>.predict_function at 0x7efef33dc710> triggered tf.function retracing. Tracing is expensive and the excessive number of tracings could be due to (1) creating @tf.function repeatedly in a loop, (2) passing tensors with different shapes, (3) passing Python objects instead of tensors. For (1), please define your @tf.function outside of the loop. For (2), @tf.function has experimental_relax_shapes=True option that relaxes argument shapes that can avoid unnecessary retracing. For (3), please refer to https://www.tensorflow.org/guide/function#controlling_retracing and https://www.tensorflow.org/api_docs/python/tf/function for  more details.\n",
            "Epoch 1/10\n"
          ]
        },
        {
          "output_type": "stream",
          "name": "stderr",
          "text": [
            "/usr/local/lib/python3.7/dist-packages/keras/optimizer_v2/rmsprop.py:130: UserWarning: The `lr` argument is deprecated, use `learning_rate` instead.\n",
            "  super(RMSprop, self).__init__(name, **kwargs)\n"
          ]
        },
        {
          "output_type": "stream",
          "name": "stdout",
          "text": [
            "2/2 [==============================] - 1s 12ms/step - loss: 0.9269 - auc_11: 0.4071 - accuracy: 0.3929\n",
            "Epoch 2/10\n",
            "2/2 [==============================] - 0s 7ms/step - loss: 0.9151 - auc_11: 0.3458 - accuracy: 0.3393\n",
            "Epoch 3/10\n",
            "2/2 [==============================] - 0s 7ms/step - loss: 0.8789 - auc_11: 0.5103 - accuracy: 0.5357\n",
            "Epoch 4/10\n",
            "2/2 [==============================] - 0s 7ms/step - loss: 0.8085 - auc_11: 0.4819 - accuracy: 0.5179\n",
            "Epoch 5/10\n",
            "2/2 [==============================] - 0s 5ms/step - loss: 0.8251 - auc_11: 0.4987 - accuracy: 0.5000\n",
            "Epoch 6/10\n",
            "2/2 [==============================] - 0s 4ms/step - loss: 0.8400 - auc_11: 0.4245 - accuracy: 0.4464\n",
            "Epoch 7/10\n",
            "2/2 [==============================] - 0s 5ms/step - loss: 0.8022 - auc_11: 0.4955 - accuracy: 0.5000\n",
            "Epoch 8/10\n",
            "2/2 [==============================] - 0s 9ms/step - loss: 0.8103 - auc_11: 0.5032 - accuracy: 0.4821\n",
            "Epoch 9/10\n",
            "2/2 [==============================] - 0s 8ms/step - loss: 0.7519 - auc_11: 0.5729 - accuracy: 0.5714\n",
            "Epoch 10/10\n",
            "2/2 [==============================] - 0s 5ms/step - loss: 0.7562 - auc_11: 0.5458 - accuracy: 0.5000\n",
            "Epoch 1/10\n"
          ]
        },
        {
          "output_type": "stream",
          "name": "stderr",
          "text": [
            "/usr/local/lib/python3.7/dist-packages/keras/optimizer_v2/rmsprop.py:130: UserWarning: The `lr` argument is deprecated, use `learning_rate` instead.\n",
            "  super(RMSprop, self).__init__(name, **kwargs)\n"
          ]
        },
        {
          "output_type": "stream",
          "name": "stdout",
          "text": [
            "2/2 [==============================] - 1s 7ms/step - loss: 0.9072 - auc_12: 0.4381 - accuracy: 0.4286\n",
            "Epoch 2/10\n",
            "2/2 [==============================] - 0s 5ms/step - loss: 0.8637 - auc_12: 0.4432 - accuracy: 0.4107\n",
            "Epoch 3/10\n",
            "2/2 [==============================] - 0s 5ms/step - loss: 0.8199 - auc_12: 0.5006 - accuracy: 0.4821\n",
            "Epoch 4/10\n",
            "2/2 [==============================] - 0s 5ms/step - loss: 0.8776 - auc_12: 0.4774 - accuracy: 0.5536\n",
            "Epoch 5/10\n",
            "2/2 [==============================] - 0s 8ms/step - loss: 0.7756 - auc_12: 0.4839 - accuracy: 0.4821\n",
            "Epoch 6/10\n",
            "2/2 [==============================] - 0s 7ms/step - loss: 0.7682 - auc_12: 0.5671 - accuracy: 0.5000\n",
            "Epoch 7/10\n",
            "2/2 [==============================] - 0s 5ms/step - loss: 0.7638 - auc_12: 0.5600 - accuracy: 0.5000\n",
            "Epoch 8/10\n",
            "2/2 [==============================] - 0s 6ms/step - loss: 0.7248 - auc_12: 0.5800 - accuracy: 0.5357\n",
            "Epoch 9/10\n",
            "2/2 [==============================] - 0s 7ms/step - loss: 0.7582 - auc_12: 0.5716 - accuracy: 0.5893\n",
            "Epoch 10/10\n",
            "2/2 [==============================] - 0s 6ms/step - loss: 0.7658 - auc_12: 0.5600 - accuracy: 0.5179\n",
            "Epoch 1/10\n"
          ]
        },
        {
          "output_type": "stream",
          "name": "stderr",
          "text": [
            "/usr/local/lib/python3.7/dist-packages/keras/optimizer_v2/rmsprop.py:130: UserWarning: The `lr` argument is deprecated, use `learning_rate` instead.\n",
            "  super(RMSprop, self).__init__(name, **kwargs)\n"
          ]
        },
        {
          "output_type": "stream",
          "name": "stdout",
          "text": [
            "2/2 [==============================] - 1s 8ms/step - loss: 0.7387 - auc_13: 0.4929 - accuracy: 0.5000\n",
            "Epoch 2/10\n",
            "2/2 [==============================] - 0s 6ms/step - loss: 0.7422 - auc_13: 0.5413 - accuracy: 0.5357\n",
            "Epoch 3/10\n",
            "2/2 [==============================] - 0s 7ms/step - loss: 0.7081 - auc_13: 0.5742 - accuracy: 0.6071\n",
            "Epoch 4/10\n",
            "2/2 [==============================] - 0s 7ms/step - loss: 0.6699 - auc_13: 0.6232 - accuracy: 0.6250\n",
            "Epoch 5/10\n",
            "2/2 [==============================] - 0s 8ms/step - loss: 0.7185 - auc_13: 0.5639 - accuracy: 0.5714\n",
            "Epoch 6/10\n",
            "2/2 [==============================] - 0s 7ms/step - loss: 0.7030 - auc_13: 0.5852 - accuracy: 0.5714\n",
            "Epoch 7/10\n",
            "2/2 [==============================] - 0s 9ms/step - loss: 0.6636 - auc_13: 0.6445 - accuracy: 0.6250\n",
            "Epoch 8/10\n",
            "2/2 [==============================] - 0s 7ms/step - loss: 0.6701 - auc_13: 0.6335 - accuracy: 0.5893\n",
            "Epoch 9/10\n",
            "2/2 [==============================] - 0s 6ms/step - loss: 0.6369 - auc_13: 0.6916 - accuracy: 0.6250\n",
            "Epoch 10/10\n",
            "2/2 [==============================] - 0s 6ms/step - loss: 0.6326 - auc_13: 0.6858 - accuracy: 0.6250\n",
            "Epoch 1/10\n"
          ]
        },
        {
          "output_type": "stream",
          "name": "stderr",
          "text": [
            "/usr/local/lib/python3.7/dist-packages/keras/optimizer_v2/rmsprop.py:130: UserWarning: The `lr` argument is deprecated, use `learning_rate` instead.\n",
            "  super(RMSprop, self).__init__(name, **kwargs)\n"
          ]
        },
        {
          "output_type": "stream",
          "name": "stdout",
          "text": [
            "2/2 [==============================] - 1s 8ms/step - loss: 0.7739 - auc_14: 0.4831 - accuracy: 0.5000\n",
            "Epoch 2/10\n",
            "2/2 [==============================] - 0s 9ms/step - loss: 0.7490 - auc_14: 0.5749 - accuracy: 0.6071\n",
            "Epoch 3/10\n",
            "2/2 [==============================] - 0s 7ms/step - loss: 0.7188 - auc_14: 0.5938 - accuracy: 0.6071\n",
            "Epoch 4/10\n",
            "2/2 [==============================] - 0s 6ms/step - loss: 0.7031 - auc_14: 0.6068 - accuracy: 0.6071\n",
            "Epoch 5/10\n",
            "2/2 [==============================] - 0s 5ms/step - loss: 0.6703 - auc_14: 0.6289 - accuracy: 0.6071\n",
            "Epoch 6/10\n",
            "2/2 [==============================] - 0s 4ms/step - loss: 0.6165 - auc_14: 0.7350 - accuracy: 0.6607\n",
            "Epoch 7/10\n",
            "2/2 [==============================] - 0s 7ms/step - loss: 0.6832 - auc_14: 0.6484 - accuracy: 0.6607\n",
            "Epoch 8/10\n",
            "2/2 [==============================] - 0s 6ms/step - loss: 0.6747 - auc_14: 0.6576 - accuracy: 0.6429\n",
            "Epoch 9/10\n",
            "2/2 [==============================] - 0s 6ms/step - loss: 0.7017 - auc_14: 0.6283 - accuracy: 0.6429\n",
            "Epoch 10/10\n",
            "2/2 [==============================] - 0s 6ms/step - loss: 0.6433 - auc_14: 0.6947 - accuracy: 0.6071\n",
            "Epoch 1/15\n"
          ]
        },
        {
          "output_type": "stream",
          "name": "stderr",
          "text": [
            "/usr/local/lib/python3.7/dist-packages/keras/optimizer_v2/rmsprop.py:130: UserWarning: The `lr` argument is deprecated, use `learning_rate` instead.\n",
            "  super(RMSprop, self).__init__(name, **kwargs)\n"
          ]
        },
        {
          "output_type": "stream",
          "name": "stdout",
          "text": [
            "2/2 [==============================] - 1s 7ms/step - loss: 0.5918 - auc_15: 0.7877 - accuracy: 0.6250\n",
            "Epoch 2/15\n",
            "2/2 [==============================] - 0s 6ms/step - loss: 0.7300 - auc_15: 0.6387 - accuracy: 0.6250\n",
            "Epoch 3/15\n",
            "2/2 [==============================] - 0s 5ms/step - loss: 0.6657 - auc_15: 0.7052 - accuracy: 0.6250\n",
            "Epoch 4/15\n",
            "2/2 [==============================] - 0s 7ms/step - loss: 0.6298 - auc_15: 0.7310 - accuracy: 0.5893\n",
            "Epoch 5/15\n",
            "2/2 [==============================] - 0s 6ms/step - loss: 0.6589 - auc_15: 0.6968 - accuracy: 0.6250\n",
            "Epoch 6/15\n",
            "2/2 [==============================] - 0s 6ms/step - loss: 0.6182 - auc_15: 0.7613 - accuracy: 0.6429\n",
            "Epoch 7/15\n",
            "2/2 [==============================] - 0s 6ms/step - loss: 0.5991 - auc_15: 0.7877 - accuracy: 0.6964\n",
            "Epoch 8/15\n",
            "2/2 [==============================] - 0s 7ms/step - loss: 0.5752 - auc_15: 0.8142 - accuracy: 0.6607\n",
            "Epoch 9/15\n",
            "2/2 [==============================] - 0s 8ms/step - loss: 0.5548 - auc_15: 0.8258 - accuracy: 0.6964\n",
            "Epoch 10/15\n",
            "2/2 [==============================] - 0s 8ms/step - loss: 0.5406 - auc_15: 0.8426 - accuracy: 0.7857\n",
            "Epoch 11/15\n",
            "2/2 [==============================] - 0s 7ms/step - loss: 0.5400 - auc_15: 0.8323 - accuracy: 0.7679\n",
            "Epoch 12/15\n",
            "2/2 [==============================] - 0s 5ms/step - loss: 0.5714 - auc_15: 0.8052 - accuracy: 0.6607\n",
            "Epoch 13/15\n",
            "2/2 [==============================] - 0s 9ms/step - loss: 0.5315 - auc_15: 0.8626 - accuracy: 0.7143\n",
            "Epoch 14/15\n",
            "2/2 [==============================] - 0s 6ms/step - loss: 0.4981 - auc_15: 0.8981 - accuracy: 0.7857\n",
            "Epoch 15/15\n",
            "2/2 [==============================] - 0s 5ms/step - loss: 0.5916 - auc_15: 0.7716 - accuracy: 0.6786\n",
            "Epoch 1/15\n"
          ]
        },
        {
          "output_type": "stream",
          "name": "stderr",
          "text": [
            "/usr/local/lib/python3.7/dist-packages/keras/optimizer_v2/rmsprop.py:130: UserWarning: The `lr` argument is deprecated, use `learning_rate` instead.\n",
            "  super(RMSprop, self).__init__(name, **kwargs)\n"
          ]
        },
        {
          "output_type": "stream",
          "name": "stdout",
          "text": [
            "2/2 [==============================] - 1s 7ms/step - loss: 0.9202 - auc_16: 0.3658 - accuracy: 0.3929\n",
            "Epoch 2/15\n",
            "2/2 [==============================] - 0s 9ms/step - loss: 0.8979 - auc_16: 0.3445 - accuracy: 0.3929\n",
            "Epoch 3/15\n",
            "2/2 [==============================] - 0s 8ms/step - loss: 0.8850 - auc_16: 0.3432 - accuracy: 0.4107\n",
            "Epoch 4/15\n",
            "2/2 [==============================] - 0s 7ms/step - loss: 0.8554 - auc_16: 0.3974 - accuracy: 0.4643\n",
            "Epoch 5/15\n",
            "2/2 [==============================] - 0s 7ms/step - loss: 0.8097 - auc_16: 0.4535 - accuracy: 0.5536\n",
            "Epoch 6/15\n",
            "2/2 [==============================] - 0s 5ms/step - loss: 0.8300 - auc_16: 0.4503 - accuracy: 0.4643\n",
            "Epoch 7/15\n",
            "2/2 [==============================] - 0s 6ms/step - loss: 0.8242 - auc_16: 0.4116 - accuracy: 0.4464\n",
            "Epoch 8/15\n",
            "2/2 [==============================] - 0s 8ms/step - loss: 0.7854 - auc_16: 0.4413 - accuracy: 0.4821\n",
            "Epoch 9/15\n",
            "2/2 [==============================] - 0s 6ms/step - loss: 0.8770 - auc_16: 0.3523 - accuracy: 0.4107\n",
            "Epoch 10/15\n",
            "2/2 [==============================] - 0s 6ms/step - loss: 0.7538 - auc_16: 0.4981 - accuracy: 0.5179\n",
            "Epoch 11/15\n",
            "2/2 [==============================] - 0s 7ms/step - loss: 0.7977 - auc_16: 0.4232 - accuracy: 0.4643\n",
            "Epoch 12/15\n",
            "2/2 [==============================] - 0s 3ms/step - loss: 0.7915 - auc_16: 0.4974 - accuracy: 0.5357\n",
            "Epoch 13/15\n",
            "2/2 [==============================] - 0s 6ms/step - loss: 0.6885 - auc_16: 0.6155 - accuracy: 0.5714\n",
            "Epoch 14/15\n",
            "2/2 [==============================] - 0s 3ms/step - loss: 0.7454 - auc_16: 0.4981 - accuracy: 0.5714\n",
            "Epoch 15/15\n",
            "2/2 [==============================] - 0s 7ms/step - loss: 0.7767 - auc_16: 0.4826 - accuracy: 0.5179\n",
            "Epoch 1/15\n"
          ]
        },
        {
          "output_type": "stream",
          "name": "stderr",
          "text": [
            "/usr/local/lib/python3.7/dist-packages/keras/optimizer_v2/rmsprop.py:130: UserWarning: The `lr` argument is deprecated, use `learning_rate` instead.\n",
            "  super(RMSprop, self).__init__(name, **kwargs)\n"
          ]
        },
        {
          "output_type": "stream",
          "name": "stdout",
          "text": [
            "2/2 [==============================] - 1s 7ms/step - loss: 0.7485 - auc_17: 0.5361 - accuracy: 0.4821\n",
            "Epoch 2/15\n",
            "2/2 [==============================] - 0s 6ms/step - loss: 0.6751 - auc_17: 0.6142 - accuracy: 0.5536\n",
            "Epoch 3/15\n",
            "2/2 [==============================] - 0s 5ms/step - loss: 0.7008 - auc_17: 0.6135 - accuracy: 0.5536\n",
            "Epoch 4/15\n",
            "2/2 [==============================] - 0s 14ms/step - loss: 0.6728 - auc_17: 0.6426 - accuracy: 0.6071\n",
            "Epoch 5/15\n",
            "2/2 [==============================] - 0s 5ms/step - loss: 0.7134 - auc_17: 0.6026 - accuracy: 0.4821\n",
            "Epoch 6/15\n",
            "2/2 [==============================] - 0s 9ms/step - loss: 0.6623 - auc_17: 0.6181 - accuracy: 0.5893\n",
            "Epoch 7/15\n",
            "2/2 [==============================] - 0s 6ms/step - loss: 0.6226 - auc_17: 0.7206 - accuracy: 0.6071\n",
            "Epoch 8/15\n",
            "2/2 [==============================] - 0s 7ms/step - loss: 0.5948 - auc_17: 0.7258 - accuracy: 0.6250\n",
            "Epoch 9/15\n",
            "2/2 [==============================] - 0s 7ms/step - loss: 0.6030 - auc_17: 0.7535 - accuracy: 0.6786\n",
            "Epoch 10/15\n",
            "2/2 [==============================] - 0s 10ms/step - loss: 0.6421 - auc_17: 0.6865 - accuracy: 0.6607\n",
            "Epoch 11/15\n",
            "2/2 [==============================] - 0s 6ms/step - loss: 0.6357 - auc_17: 0.7142 - accuracy: 0.6607\n",
            "Epoch 12/15\n",
            "2/2 [==============================] - 0s 6ms/step - loss: 0.5706 - auc_17: 0.7690 - accuracy: 0.6786\n",
            "Epoch 13/15\n",
            "2/2 [==============================] - 0s 6ms/step - loss: 0.5608 - auc_17: 0.8071 - accuracy: 0.7321\n",
            "Epoch 14/15\n",
            "2/2 [==============================] - 0s 8ms/step - loss: 0.6059 - auc_17: 0.7497 - accuracy: 0.6786\n",
            "Epoch 15/15\n",
            "2/2 [==============================] - 0s 8ms/step - loss: 0.6045 - auc_17: 0.7135 - accuracy: 0.6607\n",
            "Epoch 1/15\n"
          ]
        },
        {
          "output_type": "stream",
          "name": "stderr",
          "text": [
            "/usr/local/lib/python3.7/dist-packages/keras/optimizer_v2/rmsprop.py:130: UserWarning: The `lr` argument is deprecated, use `learning_rate` instead.\n",
            "  super(RMSprop, self).__init__(name, **kwargs)\n"
          ]
        },
        {
          "output_type": "stream",
          "name": "stdout",
          "text": [
            "2/2 [==============================] - 1s 7ms/step - loss: 0.6004 - auc_18: 0.7348 - accuracy: 0.6607\n",
            "Epoch 2/15\n",
            "2/2 [==============================] - 0s 5ms/step - loss: 0.5916 - auc_18: 0.7284 - accuracy: 0.6786\n",
            "Epoch 3/15\n",
            "2/2 [==============================] - 0s 8ms/step - loss: 0.5843 - auc_18: 0.7361 - accuracy: 0.6964\n",
            "Epoch 4/15\n",
            "2/2 [==============================] - 0s 8ms/step - loss: 0.6301 - auc_18: 0.6800 - accuracy: 0.5536\n",
            "Epoch 5/15\n",
            "2/2 [==============================] - 0s 9ms/step - loss: 0.5634 - auc_18: 0.7729 - accuracy: 0.6607\n",
            "Epoch 6/15\n",
            "2/2 [==============================] - 0s 3ms/step - loss: 0.5574 - auc_18: 0.7935 - accuracy: 0.7143\n",
            "Epoch 7/15\n",
            "2/2 [==============================] - 0s 5ms/step - loss: 0.6043 - auc_18: 0.6994 - accuracy: 0.5357\n",
            "Epoch 8/15\n",
            "2/2 [==============================] - 0s 8ms/step - loss: 0.5246 - auc_18: 0.8239 - accuracy: 0.7679\n",
            "Epoch 9/15\n",
            "2/2 [==============================] - 0s 7ms/step - loss: 0.5401 - auc_18: 0.8097 - accuracy: 0.6607\n",
            "Epoch 10/15\n",
            "2/2 [==============================] - 0s 7ms/step - loss: 0.5898 - auc_18: 0.7426 - accuracy: 0.6250\n",
            "Epoch 11/15\n",
            "2/2 [==============================] - 0s 6ms/step - loss: 0.4949 - auc_18: 0.8690 - accuracy: 0.7143\n",
            "Epoch 12/15\n",
            "2/2 [==============================] - 0s 8ms/step - loss: 0.5838 - auc_18: 0.7542 - accuracy: 0.6429\n",
            "Epoch 13/15\n",
            "2/2 [==============================] - 0s 8ms/step - loss: 0.5287 - auc_18: 0.8290 - accuracy: 0.7321\n",
            "Epoch 14/15\n",
            "2/2 [==============================] - 0s 7ms/step - loss: 0.5193 - auc_18: 0.8400 - accuracy: 0.7500\n",
            "Epoch 15/15\n",
            "2/2 [==============================] - 0s 7ms/step - loss: 0.5138 - auc_18: 0.8465 - accuracy: 0.7143\n",
            "Epoch 1/15\n"
          ]
        },
        {
          "output_type": "stream",
          "name": "stderr",
          "text": [
            "/usr/local/lib/python3.7/dist-packages/keras/optimizer_v2/rmsprop.py:130: UserWarning: The `lr` argument is deprecated, use `learning_rate` instead.\n",
            "  super(RMSprop, self).__init__(name, **kwargs)\n"
          ]
        },
        {
          "output_type": "stream",
          "name": "stdout",
          "text": [
            "2/2 [==============================] - 1s 7ms/step - loss: 0.8271 - auc_19: 0.5202 - accuracy: 0.4643\n",
            "Epoch 2/15\n",
            "2/2 [==============================] - 0s 6ms/step - loss: 0.7552 - auc_19: 0.5742 - accuracy: 0.5357\n",
            "Epoch 3/15\n",
            "2/2 [==============================] - 0s 10ms/step - loss: 0.7532 - auc_19: 0.5345 - accuracy: 0.5000\n",
            "Epoch 4/15\n",
            "2/2 [==============================] - 0s 8ms/step - loss: 0.7566 - auc_19: 0.5892 - accuracy: 0.5536\n",
            "Epoch 5/15\n",
            "2/2 [==============================] - 0s 7ms/step - loss: 0.7687 - auc_19: 0.5755 - accuracy: 0.5536\n",
            "Epoch 6/15\n",
            "2/2 [==============================] - 0s 6ms/step - loss: 0.7449 - auc_19: 0.5977 - accuracy: 0.5179\n",
            "Epoch 7/15\n",
            "2/2 [==============================] - 0s 9ms/step - loss: 0.7449 - auc_19: 0.5632 - accuracy: 0.4821\n",
            "Epoch 8/15\n",
            "2/2 [==============================] - 0s 6ms/step - loss: 0.7435 - auc_19: 0.5495 - accuracy: 0.5179\n",
            "Epoch 9/15\n",
            "2/2 [==============================] - 0s 9ms/step - loss: 0.7021 - auc_19: 0.6257 - accuracy: 0.5357\n",
            "Epoch 10/15\n",
            "2/2 [==============================] - 0s 6ms/step - loss: 0.7119 - auc_19: 0.5905 - accuracy: 0.5536\n",
            "Epoch 11/15\n",
            "2/2 [==============================] - 0s 8ms/step - loss: 0.6381 - auc_19: 0.6764 - accuracy: 0.6607\n",
            "Epoch 12/15\n",
            "2/2 [==============================] - 0s 7ms/step - loss: 0.6815 - auc_19: 0.6562 - accuracy: 0.5714\n",
            "Epoch 13/15\n",
            "2/2 [==============================] - 0s 7ms/step - loss: 0.6784 - auc_19: 0.6628 - accuracy: 0.6429\n",
            "Epoch 14/15\n",
            "2/2 [==============================] - 0s 5ms/step - loss: 0.6548 - auc_19: 0.6621 - accuracy: 0.6071\n",
            "Epoch 15/15\n",
            "2/2 [==============================] - 0s 8ms/step - loss: 0.6712 - auc_19: 0.6452 - accuracy: 0.5893\n",
            "Epoch 1/20\n"
          ]
        },
        {
          "output_type": "stream",
          "name": "stderr",
          "text": [
            "/usr/local/lib/python3.7/dist-packages/keras/optimizer_v2/rmsprop.py:130: UserWarning: The `lr` argument is deprecated, use `learning_rate` instead.\n",
            "  super(RMSprop, self).__init__(name, **kwargs)\n"
          ]
        },
        {
          "output_type": "stream",
          "name": "stdout",
          "text": [
            "2/2 [==============================] - 1s 5ms/step - loss: 0.7256 - auc_20: 0.6697 - accuracy: 0.5714\n",
            "Epoch 2/20\n",
            "2/2 [==============================] - 0s 6ms/step - loss: 0.7415 - auc_20: 0.6077 - accuracy: 0.5714\n",
            "Epoch 3/20\n",
            "2/2 [==============================] - 0s 11ms/step - loss: 0.7368 - auc_20: 0.6677 - accuracy: 0.5893\n",
            "Epoch 4/20\n",
            "2/2 [==============================] - 0s 11ms/step - loss: 0.6409 - auc_20: 0.7155 - accuracy: 0.6071\n",
            "Epoch 5/20\n",
            "2/2 [==============================] - 0s 7ms/step - loss: 0.6342 - auc_20: 0.7542 - accuracy: 0.6071\n",
            "Epoch 6/20\n",
            "2/2 [==============================] - 0s 8ms/step - loss: 0.6075 - auc_20: 0.7084 - accuracy: 0.5536\n",
            "Epoch 7/20\n",
            "2/2 [==============================] - 0s 7ms/step - loss: 0.7317 - auc_20: 0.5877 - accuracy: 0.5000\n",
            "Epoch 8/20\n",
            "2/2 [==============================] - 0s 8ms/step - loss: 0.7022 - auc_20: 0.6348 - accuracy: 0.5714\n",
            "Epoch 9/20\n",
            "2/2 [==============================] - 0s 7ms/step - loss: 0.6820 - auc_20: 0.6452 - accuracy: 0.5536\n",
            "Epoch 10/20\n",
            "2/2 [==============================] - 0s 13ms/step - loss: 0.6379 - auc_20: 0.7535 - accuracy: 0.6071\n",
            "Epoch 11/20\n",
            "2/2 [==============================] - 0s 6ms/step - loss: 0.5810 - auc_20: 0.7884 - accuracy: 0.6964\n",
            "Epoch 12/20\n",
            "2/2 [==============================] - 0s 7ms/step - loss: 0.5636 - auc_20: 0.8200 - accuracy: 0.7500\n",
            "Epoch 13/20\n",
            "2/2 [==============================] - 0s 9ms/step - loss: 0.6242 - auc_20: 0.7297 - accuracy: 0.6607\n",
            "Epoch 14/20\n",
            "2/2 [==============================] - 0s 8ms/step - loss: 0.6335 - auc_20: 0.7265 - accuracy: 0.6607\n",
            "Epoch 15/20\n",
            "2/2 [==============================] - 0s 7ms/step - loss: 0.6290 - auc_20: 0.7116 - accuracy: 0.6429\n",
            "Epoch 16/20\n",
            "2/2 [==============================] - 0s 5ms/step - loss: 0.5533 - auc_20: 0.8077 - accuracy: 0.7321\n",
            "Epoch 17/20\n",
            "2/2 [==============================] - 0s 7ms/step - loss: 0.5907 - auc_20: 0.8065 - accuracy: 0.7143\n",
            "Epoch 18/20\n",
            "2/2 [==============================] - 0s 6ms/step - loss: 0.5434 - auc_20: 0.8103 - accuracy: 0.7321\n",
            "Epoch 19/20\n",
            "2/2 [==============================] - 0s 7ms/step - loss: 0.6085 - auc_20: 0.7542 - accuracy: 0.6607\n",
            "Epoch 20/20\n",
            "2/2 [==============================] - 0s 6ms/step - loss: 0.5534 - auc_20: 0.8213 - accuracy: 0.7321\n",
            "Epoch 1/20\n"
          ]
        },
        {
          "output_type": "stream",
          "name": "stderr",
          "text": [
            "/usr/local/lib/python3.7/dist-packages/keras/optimizer_v2/rmsprop.py:130: UserWarning: The `lr` argument is deprecated, use `learning_rate` instead.\n",
            "  super(RMSprop, self).__init__(name, **kwargs)\n"
          ]
        },
        {
          "output_type": "stream",
          "name": "stdout",
          "text": [
            "2/2 [==============================] - 1s 6ms/step - loss: 0.8063 - auc_21: 0.5503 - accuracy: 0.5179\n",
            "Epoch 2/20\n",
            "2/2 [==============================] - 0s 6ms/step - loss: 0.8531 - auc_21: 0.5232 - accuracy: 0.5536\n",
            "Epoch 3/20\n",
            "2/2 [==============================] - 0s 6ms/step - loss: 0.7374 - auc_21: 0.6077 - accuracy: 0.5714\n",
            "Epoch 4/20\n",
            "2/2 [==============================] - 0s 5ms/step - loss: 0.7425 - auc_21: 0.6071 - accuracy: 0.5714\n",
            "Epoch 5/20\n",
            "2/2 [==============================] - 0s 8ms/step - loss: 0.7431 - auc_21: 0.6187 - accuracy: 0.6071\n",
            "Epoch 6/20\n",
            "2/2 [==============================] - 0s 6ms/step - loss: 0.7218 - auc_21: 0.6155 - accuracy: 0.6071\n",
            "Epoch 7/20\n",
            "2/2 [==============================] - 0s 4ms/step - loss: 0.6956 - auc_21: 0.6471 - accuracy: 0.5536\n",
            "Epoch 8/20\n",
            "2/2 [==============================] - 0s 4ms/step - loss: 0.7288 - auc_21: 0.5897 - accuracy: 0.5179\n",
            "Epoch 9/20\n",
            "2/2 [==============================] - 0s 8ms/step - loss: 0.7223 - auc_21: 0.6368 - accuracy: 0.6429\n",
            "Epoch 10/20\n",
            "2/2 [==============================] - 0s 8ms/step - loss: 0.6440 - auc_21: 0.7432 - accuracy: 0.6964\n",
            "Epoch 11/20\n",
            "2/2 [==============================] - 0s 6ms/step - loss: 0.6508 - auc_21: 0.6903 - accuracy: 0.6250\n",
            "Epoch 12/20\n",
            "2/2 [==============================] - 0s 7ms/step - loss: 0.6602 - auc_21: 0.6510 - accuracy: 0.6071\n",
            "Epoch 13/20\n",
            "2/2 [==============================] - 0s 10ms/step - loss: 0.6459 - auc_21: 0.7097 - accuracy: 0.6429\n",
            "Epoch 14/20\n",
            "2/2 [==============================] - 0s 9ms/step - loss: 0.6471 - auc_21: 0.6987 - accuracy: 0.7143\n",
            "Epoch 15/20\n",
            "2/2 [==============================] - 0s 6ms/step - loss: 0.6669 - auc_21: 0.6865 - accuracy: 0.6607\n",
            "Epoch 16/20\n",
            "2/2 [==============================] - 0s 7ms/step - loss: 0.6143 - auc_21: 0.7161 - accuracy: 0.6429\n",
            "Epoch 17/20\n",
            "2/2 [==============================] - 0s 7ms/step - loss: 0.6534 - auc_21: 0.6735 - accuracy: 0.6250\n",
            "Epoch 18/20\n",
            "2/2 [==============================] - 0s 7ms/step - loss: 0.6170 - auc_21: 0.7413 - accuracy: 0.6786\n",
            "Epoch 19/20\n",
            "2/2 [==============================] - 0s 7ms/step - loss: 0.6085 - auc_21: 0.7542 - accuracy: 0.7143\n",
            "Epoch 20/20\n",
            "2/2 [==============================] - 0s 6ms/step - loss: 0.6208 - auc_21: 0.7142 - accuracy: 0.6429\n",
            "Epoch 1/20\n"
          ]
        },
        {
          "output_type": "stream",
          "name": "stderr",
          "text": [
            "/usr/local/lib/python3.7/dist-packages/keras/optimizer_v2/rmsprop.py:130: UserWarning: The `lr` argument is deprecated, use `learning_rate` instead.\n",
            "  super(RMSprop, self).__init__(name, **kwargs)\n"
          ]
        },
        {
          "output_type": "stream",
          "name": "stdout",
          "text": [
            "2/2 [==============================] - 1s 7ms/step - loss: 0.9150 - auc_22: 0.3155 - accuracy: 0.3036\n",
            "Epoch 2/20\n",
            "2/2 [==============================] - 0s 7ms/step - loss: 0.8788 - auc_22: 0.3632 - accuracy: 0.3214\n",
            "Epoch 3/20\n",
            "2/2 [==============================] - 0s 6ms/step - loss: 0.7865 - auc_22: 0.4490 - accuracy: 0.3750\n",
            "Epoch 4/20\n",
            "2/2 [==============================] - 0s 7ms/step - loss: 0.8262 - auc_22: 0.4310 - accuracy: 0.4643\n",
            "Epoch 5/20\n",
            "2/2 [==============================] - 0s 5ms/step - loss: 0.7740 - auc_22: 0.5084 - accuracy: 0.5000\n",
            "Epoch 6/20\n",
            "2/2 [==============================] - 0s 5ms/step - loss: 0.7871 - auc_22: 0.5039 - accuracy: 0.5000\n",
            "Epoch 7/20\n",
            "2/2 [==============================] - 0s 4ms/step - loss: 0.7798 - auc_22: 0.4587 - accuracy: 0.4464\n",
            "Epoch 8/20\n",
            "2/2 [==============================] - 0s 4ms/step - loss: 0.7664 - auc_22: 0.4929 - accuracy: 0.4821\n",
            "Epoch 9/20\n",
            "2/2 [==============================] - 0s 4ms/step - loss: 0.8697 - auc_22: 0.3116 - accuracy: 0.2857\n",
            "Epoch 10/20\n",
            "2/2 [==============================] - 0s 4ms/step - loss: 0.7720 - auc_22: 0.4645 - accuracy: 0.4464\n",
            "Epoch 11/20\n",
            "2/2 [==============================] - 0s 4ms/step - loss: 0.7636 - auc_22: 0.4955 - accuracy: 0.3929\n",
            "Epoch 12/20\n",
            "2/2 [==============================] - 0s 4ms/step - loss: 0.7540 - auc_22: 0.5529 - accuracy: 0.5000\n",
            "Epoch 13/20\n",
            "2/2 [==============================] - 0s 4ms/step - loss: 0.7816 - auc_22: 0.4716 - accuracy: 0.4464\n",
            "Epoch 14/20\n",
            "2/2 [==============================] - 0s 6ms/step - loss: 0.7532 - auc_22: 0.4871 - accuracy: 0.4643\n",
            "Epoch 15/20\n",
            "2/2 [==============================] - 0s 8ms/step - loss: 0.6853 - auc_22: 0.5845 - accuracy: 0.5179\n",
            "Epoch 16/20\n",
            "2/2 [==============================] - 0s 10ms/step - loss: 0.7411 - auc_22: 0.4987 - accuracy: 0.4464\n",
            "Epoch 17/20\n",
            "2/2 [==============================] - 0s 5ms/step - loss: 0.7078 - auc_22: 0.5497 - accuracy: 0.5357\n",
            "Epoch 18/20\n",
            "2/2 [==============================] - 0s 4ms/step - loss: 0.6966 - auc_22: 0.5697 - accuracy: 0.5357\n",
            "Epoch 19/20\n",
            "2/2 [==============================] - 0s 10ms/step - loss: 0.7180 - auc_22: 0.5523 - accuracy: 0.5536\n",
            "Epoch 20/20\n",
            "2/2 [==============================] - 0s 4ms/step - loss: 0.6683 - auc_22: 0.6110 - accuracy: 0.4821\n",
            "Epoch 1/20\n"
          ]
        },
        {
          "output_type": "stream",
          "name": "stderr",
          "text": [
            "/usr/local/lib/python3.7/dist-packages/keras/optimizer_v2/rmsprop.py:130: UserWarning: The `lr` argument is deprecated, use `learning_rate` instead.\n",
            "  super(RMSprop, self).__init__(name, **kwargs)\n"
          ]
        },
        {
          "output_type": "stream",
          "name": "stdout",
          "text": [
            "2/2 [==============================] - 1s 6ms/step - loss: 0.7588 - auc_23: 0.6084 - accuracy: 0.5536\n",
            "Epoch 2/20\n",
            "2/2 [==============================] - 0s 4ms/step - loss: 0.8242 - auc_23: 0.5116 - accuracy: 0.4821\n",
            "Epoch 3/20\n",
            "2/2 [==============================] - 0s 7ms/step - loss: 0.7304 - auc_23: 0.6271 - accuracy: 0.5536\n",
            "Epoch 4/20\n",
            "2/2 [==============================] - 0s 8ms/step - loss: 0.7454 - auc_23: 0.5484 - accuracy: 0.4464\n",
            "Epoch 5/20\n",
            "2/2 [==============================] - 0s 7ms/step - loss: 0.7619 - auc_23: 0.5781 - accuracy: 0.4821\n",
            "Epoch 6/20\n",
            "2/2 [==============================] - 0s 8ms/step - loss: 0.7824 - auc_23: 0.5471 - accuracy: 0.5179\n",
            "Epoch 7/20\n",
            "2/2 [==============================] - 0s 8ms/step - loss: 0.7295 - auc_23: 0.6052 - accuracy: 0.5179\n",
            "Epoch 8/20\n",
            "2/2 [==============================] - 0s 9ms/step - loss: 0.7656 - auc_23: 0.5200 - accuracy: 0.5000\n",
            "Epoch 9/20\n",
            "2/2 [==============================] - 0s 7ms/step - loss: 0.6646 - auc_23: 0.6729 - accuracy: 0.5714\n",
            "Epoch 10/20\n",
            "2/2 [==============================] - 0s 6ms/step - loss: 0.7448 - auc_23: 0.5465 - accuracy: 0.5357\n",
            "Epoch 11/20\n",
            "2/2 [==============================] - 0s 4ms/step - loss: 0.7317 - auc_23: 0.6077 - accuracy: 0.5714\n",
            "Epoch 12/20\n",
            "2/2 [==============================] - 0s 4ms/step - loss: 0.7181 - auc_23: 0.6490 - accuracy: 0.6071\n",
            "Epoch 13/20\n",
            "2/2 [==============================] - 0s 4ms/step - loss: 0.7192 - auc_23: 0.6258 - accuracy: 0.5714\n",
            "Epoch 14/20\n",
            "2/2 [==============================] - 0s 4ms/step - loss: 0.6340 - auc_23: 0.7213 - accuracy: 0.6071\n",
            "Epoch 15/20\n",
            "2/2 [==============================] - 0s 6ms/step - loss: 0.6622 - auc_23: 0.6852 - accuracy: 0.6607\n",
            "Epoch 16/20\n",
            "2/2 [==============================] - 0s 4ms/step - loss: 0.6333 - auc_23: 0.7090 - accuracy: 0.5893\n",
            "Epoch 17/20\n",
            "2/2 [==============================] - 0s 4ms/step - loss: 0.6512 - auc_23: 0.7135 - accuracy: 0.6250\n",
            "Epoch 18/20\n",
            "2/2 [==============================] - 0s 4ms/step - loss: 0.6103 - auc_23: 0.7652 - accuracy: 0.6250\n",
            "Epoch 19/20\n",
            "2/2 [==============================] - 0s 4ms/step - loss: 0.5561 - auc_23: 0.8484 - accuracy: 0.6786\n",
            "Epoch 20/20\n",
            "2/2 [==============================] - 0s 4ms/step - loss: 0.6073 - auc_23: 0.7355 - accuracy: 0.6964\n",
            "Epoch 1/20\n"
          ]
        },
        {
          "output_type": "stream",
          "name": "stderr",
          "text": [
            "/usr/local/lib/python3.7/dist-packages/keras/optimizer_v2/rmsprop.py:130: UserWarning: The `lr` argument is deprecated, use `learning_rate` instead.\n",
            "  super(RMSprop, self).__init__(name, **kwargs)\n"
          ]
        },
        {
          "output_type": "stream",
          "name": "stdout",
          "text": [
            "2/2 [==============================] - 1s 6ms/step - loss: 0.8240 - auc_24: 0.5039 - accuracy: 0.4464\n",
            "Epoch 2/20\n",
            "2/2 [==============================] - 0s 11ms/step - loss: 0.8763 - auc_24: 0.3906 - accuracy: 0.3750\n",
            "Epoch 3/20\n",
            "2/2 [==============================] - 0s 9ms/step - loss: 0.7640 - auc_24: 0.5247 - accuracy: 0.4464\n",
            "Epoch 4/20\n",
            "2/2 [==============================] - 0s 7ms/step - loss: 0.7492 - auc_24: 0.5150 - accuracy: 0.4643\n",
            "Epoch 5/20\n",
            "2/2 [==============================] - 0s 6ms/step - loss: 0.8100 - auc_24: 0.4538 - accuracy: 0.4643\n",
            "Epoch 6/20\n",
            "2/2 [==============================] - 0s 7ms/step - loss: 0.7610 - auc_24: 0.5280 - accuracy: 0.4643\n",
            "Epoch 7/20\n",
            "2/2 [==============================] - 0s 11ms/step - loss: 0.7530 - auc_24: 0.5241 - accuracy: 0.4821\n",
            "Epoch 8/20\n",
            "2/2 [==============================] - 0s 6ms/step - loss: 0.7778 - auc_24: 0.5137 - accuracy: 0.5179\n",
            "Epoch 9/20\n",
            "2/2 [==============================] - 0s 8ms/step - loss: 0.7498 - auc_24: 0.5527 - accuracy: 0.5000\n",
            "Epoch 10/20\n",
            "2/2 [==============================] - 0s 6ms/step - loss: 0.6624 - auc_24: 0.6374 - accuracy: 0.5714\n",
            "Epoch 11/20\n",
            "2/2 [==============================] - 0s 5ms/step - loss: 0.7102 - auc_24: 0.5527 - accuracy: 0.5357\n",
            "Epoch 12/20\n",
            "2/2 [==============================] - 0s 5ms/step - loss: 0.7037 - auc_24: 0.5846 - accuracy: 0.5357\n",
            "Epoch 13/20\n",
            "2/2 [==============================] - 0s 5ms/step - loss: 0.7168 - auc_24: 0.5762 - accuracy: 0.5536\n",
            "Epoch 14/20\n",
            "2/2 [==============================] - 0s 7ms/step - loss: 0.7332 - auc_24: 0.5417 - accuracy: 0.5357\n",
            "Epoch 15/20\n",
            "2/2 [==============================] - 0s 4ms/step - loss: 0.6935 - auc_24: 0.5918 - accuracy: 0.6071\n",
            "Epoch 16/20\n",
            "2/2 [==============================] - 0s 4ms/step - loss: 0.6578 - auc_24: 0.6413 - accuracy: 0.5714\n",
            "Epoch 17/20\n",
            "2/2 [==============================] - 0s 4ms/step - loss: 0.6489 - auc_24: 0.6165 - accuracy: 0.5357\n",
            "Epoch 18/20\n",
            "2/2 [==============================] - 0s 4ms/step - loss: 0.6406 - auc_24: 0.6693 - accuracy: 0.6429\n",
            "Epoch 19/20\n",
            "2/2 [==============================] - 0s 4ms/step - loss: 0.6470 - auc_24: 0.6426 - accuracy: 0.6071\n",
            "Epoch 20/20\n",
            "2/2 [==============================] - 0s 4ms/step - loss: 0.6815 - auc_24: 0.6309 - accuracy: 0.6250\n",
            "Epoch 1/25\n"
          ]
        },
        {
          "output_type": "stream",
          "name": "stderr",
          "text": [
            "/usr/local/lib/python3.7/dist-packages/keras/optimizer_v2/rmsprop.py:130: UserWarning: The `lr` argument is deprecated, use `learning_rate` instead.\n",
            "  super(RMSprop, self).__init__(name, **kwargs)\n"
          ]
        },
        {
          "output_type": "stream",
          "name": "stdout",
          "text": [
            "2/2 [==============================] - 1s 8ms/step - loss: 0.7299 - auc_25: 0.5806 - accuracy: 0.5893\n",
            "Epoch 2/25\n",
            "2/2 [==============================] - 0s 7ms/step - loss: 0.7651 - auc_25: 0.5187 - accuracy: 0.5893\n",
            "Epoch 3/25\n",
            "2/2 [==============================] - 0s 6ms/step - loss: 0.6959 - auc_25: 0.6335 - accuracy: 0.6250\n",
            "Epoch 4/25\n",
            "2/2 [==============================] - 0s 7ms/step - loss: 0.6999 - auc_25: 0.6200 - accuracy: 0.6250\n",
            "Epoch 5/25\n",
            "2/2 [==============================] - 0s 7ms/step - loss: 0.7122 - auc_25: 0.5774 - accuracy: 0.5714\n",
            "Epoch 6/25\n",
            "2/2 [==============================] - 0s 6ms/step - loss: 0.6590 - auc_25: 0.6265 - accuracy: 0.6071\n",
            "Epoch 7/25\n",
            "2/2 [==============================] - 0s 7ms/step - loss: 0.6227 - auc_25: 0.6942 - accuracy: 0.7143\n",
            "Epoch 8/25\n",
            "2/2 [==============================] - 0s 6ms/step - loss: 0.6477 - auc_25: 0.6606 - accuracy: 0.6429\n",
            "Epoch 9/25\n",
            "2/2 [==============================] - 0s 7ms/step - loss: 0.6106 - auc_25: 0.7084 - accuracy: 0.6964\n",
            "Epoch 10/25\n",
            "2/2 [==============================] - 0s 5ms/step - loss: 0.6261 - auc_25: 0.7032 - accuracy: 0.7143\n",
            "Epoch 11/25\n",
            "2/2 [==============================] - 0s 6ms/step - loss: 0.5895 - auc_25: 0.7271 - accuracy: 0.6786\n",
            "Epoch 12/25\n",
            "2/2 [==============================] - 0s 5ms/step - loss: 0.5956 - auc_25: 0.7406 - accuracy: 0.7143\n",
            "Epoch 13/25\n",
            "2/2 [==============================] - 0s 8ms/step - loss: 0.5743 - auc_25: 0.7697 - accuracy: 0.6786\n",
            "Epoch 14/25\n",
            "2/2 [==============================] - 0s 7ms/step - loss: 0.5370 - auc_25: 0.8110 - accuracy: 0.7500\n",
            "Epoch 15/25\n",
            "2/2 [==============================] - 0s 6ms/step - loss: 0.6069 - auc_25: 0.7026 - accuracy: 0.6786\n",
            "Epoch 16/25\n",
            "2/2 [==============================] - 0s 10ms/step - loss: 0.5960 - auc_25: 0.7052 - accuracy: 0.7143\n",
            "Epoch 17/25\n",
            "2/2 [==============================] - 0s 6ms/step - loss: 0.5724 - auc_25: 0.7800 - accuracy: 0.7321\n",
            "Epoch 18/25\n",
            "2/2 [==============================] - 0s 6ms/step - loss: 0.5862 - auc_25: 0.7484 - accuracy: 0.6786\n",
            "Epoch 19/25\n",
            "2/2 [==============================] - 0s 6ms/step - loss: 0.5241 - auc_25: 0.8303 - accuracy: 0.7321\n",
            "Epoch 20/25\n",
            "2/2 [==============================] - 0s 6ms/step - loss: 0.5487 - auc_25: 0.7839 - accuracy: 0.7143\n",
            "Epoch 21/25\n",
            "2/2 [==============================] - 0s 7ms/step - loss: 0.5116 - auc_25: 0.8535 - accuracy: 0.7857\n",
            "Epoch 22/25\n",
            "2/2 [==============================] - 0s 9ms/step - loss: 0.5446 - auc_25: 0.7987 - accuracy: 0.7321\n",
            "Epoch 23/25\n",
            "2/2 [==============================] - 0s 4ms/step - loss: 0.5147 - auc_25: 0.8477 - accuracy: 0.8214\n",
            "Epoch 24/25\n",
            "2/2 [==============================] - 0s 4ms/step - loss: 0.4633 - auc_25: 0.8935 - accuracy: 0.7679\n",
            "Epoch 25/25\n",
            "2/2 [==============================] - 0s 4ms/step - loss: 0.5115 - auc_25: 0.8316 - accuracy: 0.7500\n",
            "Epoch 1/25\n"
          ]
        },
        {
          "output_type": "stream",
          "name": "stderr",
          "text": [
            "/usr/local/lib/python3.7/dist-packages/keras/optimizer_v2/rmsprop.py:130: UserWarning: The `lr` argument is deprecated, use `learning_rate` instead.\n",
            "  super(RMSprop, self).__init__(name, **kwargs)\n"
          ]
        },
        {
          "output_type": "stream",
          "name": "stdout",
          "text": [
            "2/2 [==============================] - 1s 6ms/step - loss: 0.9112 - auc_26: 0.5735 - accuracy: 0.4464\n",
            "Epoch 2/25\n",
            "2/2 [==============================] - 0s 6ms/step - loss: 0.9261 - auc_26: 0.5187 - accuracy: 0.4464\n",
            "Epoch 3/25\n",
            "2/2 [==============================] - 0s 5ms/step - loss: 0.8898 - auc_26: 0.5516 - accuracy: 0.4286\n",
            "Epoch 4/25\n",
            "2/2 [==============================] - 0s 3ms/step - loss: 0.8686 - auc_26: 0.6213 - accuracy: 0.5179\n",
            "Epoch 5/25\n",
            "2/2 [==============================] - 0s 4ms/step - loss: 0.8157 - auc_26: 0.6271 - accuracy: 0.5179\n",
            "Epoch 6/25\n",
            "2/2 [==============================] - 0s 4ms/step - loss: 0.8974 - auc_26: 0.5471 - accuracy: 0.5000\n",
            "Epoch 7/25\n",
            "2/2 [==============================] - 0s 4ms/step - loss: 0.8312 - auc_26: 0.6213 - accuracy: 0.4821\n",
            "Epoch 8/25\n",
            "2/2 [==============================] - 0s 4ms/step - loss: 0.8223 - auc_26: 0.6071 - accuracy: 0.4821\n",
            "Epoch 9/25\n",
            "2/2 [==============================] - 0s 5ms/step - loss: 0.7818 - auc_26: 0.5961 - accuracy: 0.4821\n",
            "Epoch 10/25\n",
            "2/2 [==============================] - 0s 7ms/step - loss: 0.8180 - auc_26: 0.6239 - accuracy: 0.4821\n",
            "Epoch 11/25\n",
            "2/2 [==============================] - 0s 4ms/step - loss: 0.7959 - auc_26: 0.6316 - accuracy: 0.5357\n",
            "Epoch 12/25\n",
            "2/2 [==============================] - 0s 6ms/step - loss: 0.7834 - auc_26: 0.6729 - accuracy: 0.5357\n",
            "Epoch 13/25\n",
            "2/2 [==============================] - 0s 4ms/step - loss: 0.7848 - auc_26: 0.6458 - accuracy: 0.4821\n",
            "Epoch 14/25\n",
            "2/2 [==============================] - 0s 7ms/step - loss: 0.7216 - auc_26: 0.6600 - accuracy: 0.5536\n",
            "Epoch 15/25\n",
            "2/2 [==============================] - 0s 4ms/step - loss: 0.7548 - auc_26: 0.6742 - accuracy: 0.5714\n",
            "Epoch 16/25\n",
            "2/2 [==============================] - 0s 4ms/step - loss: 0.7103 - auc_26: 0.7071 - accuracy: 0.5893\n",
            "Epoch 17/25\n",
            "2/2 [==============================] - 0s 4ms/step - loss: 0.7015 - auc_26: 0.7271 - accuracy: 0.6071\n",
            "Epoch 18/25\n",
            "2/2 [==============================] - 0s 4ms/step - loss: 0.6993 - auc_26: 0.7084 - accuracy: 0.5357\n",
            "Epoch 19/25\n",
            "2/2 [==============================] - 0s 4ms/step - loss: 0.7248 - auc_26: 0.6697 - accuracy: 0.5536\n",
            "Epoch 20/25\n",
            "2/2 [==============================] - 0s 4ms/step - loss: 0.6513 - auc_26: 0.7465 - accuracy: 0.5893\n",
            "Epoch 21/25\n",
            "2/2 [==============================] - 0s 5ms/step - loss: 0.6792 - auc_26: 0.7535 - accuracy: 0.5179\n",
            "Epoch 22/25\n",
            "2/2 [==============================] - 0s 4ms/step - loss: 0.6471 - auc_26: 0.7961 - accuracy: 0.6964\n",
            "Epoch 23/25\n",
            "2/2 [==============================] - 0s 5ms/step - loss: 0.6691 - auc_26: 0.7271 - accuracy: 0.5536\n",
            "Epoch 24/25\n",
            "2/2 [==============================] - 0s 5ms/step - loss: 0.6935 - auc_26: 0.6910 - accuracy: 0.6071\n",
            "Epoch 25/25\n",
            "2/2 [==============================] - 0s 5ms/step - loss: 0.6135 - auc_26: 0.7832 - accuracy: 0.6607\n",
            "Epoch 1/25\n"
          ]
        },
        {
          "output_type": "stream",
          "name": "stderr",
          "text": [
            "/usr/local/lib/python3.7/dist-packages/keras/optimizer_v2/rmsprop.py:130: UserWarning: The `lr` argument is deprecated, use `learning_rate` instead.\n",
            "  super(RMSprop, self).__init__(name, **kwargs)\n"
          ]
        },
        {
          "output_type": "stream",
          "name": "stdout",
          "text": [
            "2/2 [==============================] - 1s 8ms/step - loss: 0.8615 - auc_27: 0.4245 - accuracy: 0.4464\n",
            "Epoch 2/25\n",
            "2/2 [==============================] - 0s 6ms/step - loss: 0.7943 - auc_27: 0.5548 - accuracy: 0.5893\n",
            "Epoch 3/25\n",
            "2/2 [==============================] - 0s 5ms/step - loss: 0.8266 - auc_27: 0.4523 - accuracy: 0.4643\n",
            "Epoch 4/25\n",
            "2/2 [==============================] - 0s 7ms/step - loss: 0.7549 - auc_27: 0.5368 - accuracy: 0.5000\n",
            "Epoch 5/25\n",
            "2/2 [==============================] - 0s 6ms/step - loss: 0.7932 - auc_27: 0.4942 - accuracy: 0.4643\n",
            "Epoch 6/25\n",
            "2/2 [==============================] - 0s 6ms/step - loss: 0.7626 - auc_27: 0.5103 - accuracy: 0.4643\n",
            "Epoch 7/25\n",
            "2/2 [==============================] - 0s 6ms/step - loss: 0.7974 - auc_27: 0.5135 - accuracy: 0.4821\n",
            "Epoch 8/25\n",
            "2/2 [==============================] - 0s 8ms/step - loss: 0.7596 - auc_27: 0.5335 - accuracy: 0.4821\n",
            "Epoch 9/25\n",
            "2/2 [==============================] - 0s 4ms/step - loss: 0.7378 - auc_27: 0.5852 - accuracy: 0.5536\n",
            "Epoch 10/25\n",
            "2/2 [==============================] - 0s 6ms/step - loss: 0.7605 - auc_27: 0.5542 - accuracy: 0.5714\n",
            "Epoch 11/25\n",
            "2/2 [==============================] - 0s 6ms/step - loss: 0.6022 - auc_27: 0.7426 - accuracy: 0.6786\n",
            "Epoch 12/25\n",
            "2/2 [==============================] - 0s 6ms/step - loss: 0.6524 - auc_27: 0.6568 - accuracy: 0.6429\n",
            "Epoch 13/25\n",
            "2/2 [==============================] - 0s 8ms/step - loss: 0.7087 - auc_27: 0.5968 - accuracy: 0.5536\n",
            "Epoch 14/25\n",
            "2/2 [==============================] - 0s 6ms/step - loss: 0.6705 - auc_27: 0.6523 - accuracy: 0.6250\n",
            "Epoch 15/25\n",
            "2/2 [==============================] - 0s 9ms/step - loss: 0.7016 - auc_27: 0.6110 - accuracy: 0.5536\n",
            "Epoch 16/25\n",
            "2/2 [==============================] - 0s 4ms/step - loss: 0.6499 - auc_27: 0.6981 - accuracy: 0.6250\n",
            "Epoch 17/25\n",
            "2/2 [==============================] - 0s 4ms/step - loss: 0.6641 - auc_27: 0.6458 - accuracy: 0.6429\n",
            "Epoch 18/25\n",
            "2/2 [==============================] - 0s 4ms/step - loss: 0.6694 - auc_27: 0.6768 - accuracy: 0.6607\n",
            "Epoch 19/25\n",
            "2/2 [==============================] - 0s 4ms/step - loss: 0.6110 - auc_27: 0.7252 - accuracy: 0.6250\n",
            "Epoch 20/25\n",
            "2/2 [==============================] - 0s 4ms/step - loss: 0.6433 - auc_27: 0.7000 - accuracy: 0.6250\n",
            "Epoch 21/25\n",
            "2/2 [==============================] - 0s 4ms/step - loss: 0.6318 - auc_27: 0.7045 - accuracy: 0.6250\n",
            "Epoch 22/25\n",
            "2/2 [==============================] - 0s 4ms/step - loss: 0.6433 - auc_27: 0.6903 - accuracy: 0.6607\n",
            "Epoch 23/25\n",
            "2/2 [==============================] - 0s 4ms/step - loss: 0.6454 - auc_27: 0.6774 - accuracy: 0.6429\n",
            "Epoch 24/25\n",
            "2/2 [==============================] - 0s 4ms/step - loss: 0.6119 - auc_27: 0.7123 - accuracy: 0.6786\n",
            "Epoch 25/25\n",
            "2/2 [==============================] - 0s 4ms/step - loss: 0.6335 - auc_27: 0.7148 - accuracy: 0.6964\n",
            "Epoch 1/25\n"
          ]
        },
        {
          "output_type": "stream",
          "name": "stderr",
          "text": [
            "/usr/local/lib/python3.7/dist-packages/keras/optimizer_v2/rmsprop.py:130: UserWarning: The `lr` argument is deprecated, use `learning_rate` instead.\n",
            "  super(RMSprop, self).__init__(name, **kwargs)\n"
          ]
        },
        {
          "output_type": "stream",
          "name": "stdout",
          "text": [
            "2/2 [==============================] - 1s 6ms/step - loss: 1.0393 - auc_28: 0.4916 - accuracy: 0.5714\n",
            "Epoch 2/25\n",
            "2/2 [==============================] - 0s 5ms/step - loss: 1.0203 - auc_28: 0.4606 - accuracy: 0.5536\n",
            "Epoch 3/25\n",
            "2/2 [==============================] - 0s 9ms/step - loss: 0.9511 - auc_28: 0.5239 - accuracy: 0.6071\n",
            "Epoch 4/25\n",
            "2/2 [==============================] - 0s 4ms/step - loss: 0.8387 - auc_28: 0.5484 - accuracy: 0.6071\n",
            "Epoch 5/25\n",
            "2/2 [==============================] - 0s 4ms/step - loss: 0.8628 - auc_28: 0.5348 - accuracy: 0.6250\n",
            "Epoch 6/25\n",
            "2/2 [==============================] - 0s 4ms/step - loss: 0.9459 - auc_28: 0.4735 - accuracy: 0.6071\n",
            "Epoch 7/25\n",
            "2/2 [==============================] - 0s 7ms/step - loss: 0.9429 - auc_28: 0.4903 - accuracy: 0.5714\n",
            "Epoch 8/25\n",
            "2/2 [==============================] - 0s 6ms/step - loss: 0.8872 - auc_28: 0.5232 - accuracy: 0.6071\n",
            "Epoch 9/25\n",
            "2/2 [==============================] - 0s 7ms/step - loss: 0.8425 - auc_28: 0.5206 - accuracy: 0.5893\n",
            "Epoch 10/25\n",
            "2/2 [==============================] - 0s 7ms/step - loss: 0.7533 - auc_28: 0.6129 - accuracy: 0.6071\n",
            "Epoch 11/25\n",
            "2/2 [==============================] - 0s 7ms/step - loss: 0.8109 - auc_28: 0.5406 - accuracy: 0.5893\n",
            "Epoch 12/25\n",
            "2/2 [==============================] - 0s 7ms/step - loss: 0.8225 - auc_28: 0.5581 - accuracy: 0.5893\n",
            "Epoch 13/25\n",
            "2/2 [==============================] - 0s 8ms/step - loss: 0.7342 - auc_28: 0.6419 - accuracy: 0.5714\n",
            "Epoch 14/25\n",
            "2/2 [==============================] - 0s 7ms/step - loss: 0.7672 - auc_28: 0.5871 - accuracy: 0.6250\n",
            "Epoch 15/25\n",
            "2/2 [==============================] - 0s 10ms/step - loss: 0.7763 - auc_28: 0.5787 - accuracy: 0.6250\n",
            "Epoch 16/25\n",
            "2/2 [==============================] - 0s 7ms/step - loss: 0.7189 - auc_28: 0.6335 - accuracy: 0.6071\n",
            "Epoch 17/25\n",
            "2/2 [==============================] - 0s 7ms/step - loss: 0.6584 - auc_28: 0.6968 - accuracy: 0.6071\n",
            "Epoch 18/25\n",
            "2/2 [==============================] - 0s 8ms/step - loss: 0.7439 - auc_28: 0.6252 - accuracy: 0.6786\n",
            "Epoch 19/25\n",
            "2/2 [==============================] - 0s 6ms/step - loss: 0.7698 - auc_28: 0.5974 - accuracy: 0.6250\n",
            "Epoch 20/25\n",
            "2/2 [==============================] - 0s 8ms/step - loss: 0.7255 - auc_28: 0.5865 - accuracy: 0.6250\n",
            "Epoch 21/25\n",
            "2/2 [==============================] - 0s 11ms/step - loss: 0.6795 - auc_28: 0.6852 - accuracy: 0.6964\n",
            "Epoch 22/25\n",
            "2/2 [==============================] - 0s 5ms/step - loss: 0.7242 - auc_28: 0.6045 - accuracy: 0.5893\n",
            "Epoch 23/25\n",
            "2/2 [==============================] - 0s 5ms/step - loss: 0.6324 - auc_28: 0.7148 - accuracy: 0.6607\n",
            "Epoch 24/25\n",
            "2/2 [==============================] - 0s 8ms/step - loss: 0.6728 - auc_28: 0.6755 - accuracy: 0.6607\n",
            "Epoch 25/25\n",
            "2/2 [==============================] - 0s 8ms/step - loss: 0.6827 - auc_28: 0.6742 - accuracy: 0.6607\n",
            "Epoch 1/25\n"
          ]
        },
        {
          "output_type": "stream",
          "name": "stderr",
          "text": [
            "/usr/local/lib/python3.7/dist-packages/keras/optimizer_v2/rmsprop.py:130: UserWarning: The `lr` argument is deprecated, use `learning_rate` instead.\n",
            "  super(RMSprop, self).__init__(name, **kwargs)\n"
          ]
        },
        {
          "output_type": "stream",
          "name": "stdout",
          "text": [
            "2/2 [==============================] - 1s 8ms/step - loss: 0.9056 - auc_29: 0.4219 - accuracy: 0.4464\n",
            "Epoch 2/25\n",
            "2/2 [==============================] - 0s 5ms/step - loss: 0.8497 - auc_29: 0.4186 - accuracy: 0.5179\n",
            "Epoch 3/25\n",
            "2/2 [==============================] - 0s 10ms/step - loss: 0.8897 - auc_29: 0.3919 - accuracy: 0.4107\n",
            "Epoch 4/25\n",
            "2/2 [==============================] - 0s 6ms/step - loss: 0.8556 - auc_29: 0.5267 - accuracy: 0.4821\n",
            "Epoch 5/25\n",
            "2/2 [==============================] - 0s 14ms/step - loss: 0.7968 - auc_29: 0.5345 - accuracy: 0.5179\n",
            "Epoch 6/25\n",
            "2/2 [==============================] - 0s 7ms/step - loss: 0.7624 - auc_29: 0.5853 - accuracy: 0.5179\n",
            "Epoch 7/25\n",
            "2/2 [==============================] - 0s 6ms/step - loss: 0.7392 - auc_29: 0.5879 - accuracy: 0.5714\n",
            "Epoch 8/25\n",
            "2/2 [==============================] - 0s 7ms/step - loss: 0.6903 - auc_29: 0.6309 - accuracy: 0.5714\n",
            "Epoch 9/25\n",
            "2/2 [==============================] - 0s 11ms/step - loss: 0.8267 - auc_29: 0.4967 - accuracy: 0.5357\n",
            "Epoch 10/25\n",
            "2/2 [==============================] - 0s 7ms/step - loss: 0.7611 - auc_29: 0.5475 - accuracy: 0.5536\n",
            "Epoch 11/25\n",
            "2/2 [==============================] - 0s 7ms/step - loss: 0.7829 - auc_29: 0.5456 - accuracy: 0.5893\n",
            "Epoch 12/25\n",
            "2/2 [==============================] - 0s 7ms/step - loss: 0.7379 - auc_29: 0.5827 - accuracy: 0.5179\n",
            "Epoch 13/25\n",
            "2/2 [==============================] - 0s 8ms/step - loss: 0.7471 - auc_29: 0.5840 - accuracy: 0.5000\n",
            "Epoch 14/25\n",
            "2/2 [==============================] - 0s 7ms/step - loss: 0.7079 - auc_29: 0.6003 - accuracy: 0.5536\n",
            "Epoch 15/25\n",
            "2/2 [==============================] - 0s 8ms/step - loss: 0.6626 - auc_29: 0.6393 - accuracy: 0.6250\n",
            "Epoch 16/25\n",
            "2/2 [==============================] - 0s 8ms/step - loss: 0.7058 - auc_29: 0.6204 - accuracy: 0.5893\n",
            "Epoch 17/25\n",
            "2/2 [==============================] - 0s 8ms/step - loss: 0.7267 - auc_29: 0.5215 - accuracy: 0.5000\n",
            "Epoch 18/25\n",
            "2/2 [==============================] - 0s 10ms/step - loss: 0.6805 - auc_29: 0.6230 - accuracy: 0.5714\n",
            "Epoch 19/25\n",
            "2/2 [==============================] - 0s 7ms/step - loss: 0.6560 - auc_29: 0.6667 - accuracy: 0.6071\n",
            "Epoch 20/25\n",
            "2/2 [==============================] - 0s 7ms/step - loss: 0.6370 - auc_29: 0.7018 - accuracy: 0.5714\n",
            "Epoch 21/25\n",
            "2/2 [==============================] - 0s 7ms/step - loss: 0.6655 - auc_29: 0.6439 - accuracy: 0.6250\n",
            "Epoch 22/25\n",
            "2/2 [==============================] - 0s 8ms/step - loss: 0.6925 - auc_29: 0.6315 - accuracy: 0.6071\n",
            "Epoch 23/25\n",
            "2/2 [==============================] - 0s 7ms/step - loss: 0.6324 - auc_29: 0.7168 - accuracy: 0.6429\n",
            "Epoch 24/25\n",
            "2/2 [==============================] - 0s 8ms/step - loss: 0.6898 - auc_29: 0.6237 - accuracy: 0.5357\n",
            "Epoch 25/25\n",
            "2/2 [==============================] - 0s 7ms/step - loss: 0.6221 - auc_29: 0.7103 - accuracy: 0.6250\n"
          ]
        },
        {
          "output_type": "stream",
          "name": "stderr",
          "text": [
            "/usr/local/lib/python3.7/dist-packages/sklearn/neural_network/_multilayer_perceptron.py:696: ConvergenceWarning: Stochastic Optimizer: Maximum iterations (200) reached and the optimization hasn't converged yet.\n",
            "  ConvergenceWarning,\n"
          ]
        },
        {
          "output_type": "execute_result",
          "data": {
            "text/plain": [
              "StackingClassifier(estimators=[('NN1',\n",
              "                                <keras.wrappers.scikit_learn.KerasClassifier object at 0x7efefc9b7310>),\n",
              "                               ('NN2',\n",
              "                                <keras.wrappers.scikit_learn.KerasClassifier object at 0x7efefc9c3310>),\n",
              "                               ('NN3',\n",
              "                                <keras.wrappers.scikit_learn.KerasClassifier object at 0x7efefc9b7cd0>),\n",
              "                               ('NN4',\n",
              "                                <keras.wrappers.scikit_learn.KerasClassifier object at 0x7efefc9b7e50>),\n",
              "                               ('NN5',\n",
              "                                <keras.wrappers.scikit_learn.KerasClassifier object at 0x7efefc9b7b50>)],\n",
              "                   final_estimator=MLPClassifier())"
            ]
          },
          "metadata": {},
          "execution_count": 19
        }
      ]
    },
    {
      "cell_type": "code",
      "source": [
        "print(\"Stacking model score: %.3f\" % clf.score(X_test, y_test))"
      ],
      "metadata": {
        "colab": {
          "base_uri": "https://localhost:8080/"
        },
        "id": "2J83ZQJitSdx",
        "outputId": "6cacceae-048c-4ccc-a733-806e4c3fde12"
      },
      "execution_count": null,
      "outputs": [
        {
          "output_type": "stream",
          "name": "stdout",
          "text": [
            "Stacking model score: 0.667\n"
          ]
        }
      ]
    },
    {
      "cell_type": "code",
      "source": [
        "clf.predict_proba(X_test)"
      ],
      "metadata": {
        "colab": {
          "base_uri": "https://localhost:8080/"
        },
        "id": "pQURHoVUtrut",
        "outputId": "5486d12d-a6a7-4f66-df61-6db1484be060"
      },
      "execution_count": null,
      "outputs": [
        {
          "output_type": "execute_result",
          "data": {
            "text/plain": [
              "array([[0.5259005 , 0.4740995 ],\n",
              "       [0.32966447, 0.67033553],\n",
              "       [0.6022595 , 0.39774048],\n",
              "       [0.6667608 , 0.3332392 ],\n",
              "       [0.417597  , 0.582403  ],\n",
              "       [0.27488565, 0.72511435],\n",
              "       [0.30625182, 0.6937482 ],\n",
              "       [0.15773052, 0.8422695 ],\n",
              "       [0.23099923, 0.76900077],\n",
              "       [0.47085953, 0.5291405 ],\n",
              "       [0.43534595, 0.56465405],\n",
              "       [0.2413432 , 0.7586568 ],\n",
              "       [0.7443464 , 0.2556536 ],\n",
              "       [0.40285724, 0.59714276],\n",
              "       [0.6586628 , 0.34133717],\n",
              "       [0.2368235 , 0.7631765 ],\n",
              "       [0.25089788, 0.7491021 ],\n",
              "       [0.24471062, 0.7552894 ],\n",
              "       [0.553675  , 0.446325  ],\n",
              "       [0.7319483 , 0.26805168],\n",
              "       [0.39147443, 0.6085256 ],\n",
              "       [0.61568284, 0.38431716],\n",
              "       [0.48687285, 0.51312715],\n",
              "       [0.616234  , 0.383766  ],\n",
              "       [0.16752505, 0.83247495],\n",
              "       [0.7050258 , 0.29497424],\n",
              "       [0.29142314, 0.70857686],\n",
              "       [0.20566028, 0.7943397 ],\n",
              "       [0.7393385 , 0.2606615 ],\n",
              "       [0.21296203, 0.78703797]], dtype=float32)"
            ]
          },
          "metadata": {},
          "execution_count": 21
        }
      ]
    },
    {
      "cell_type": "code",
      "source": [
        "clf"
      ],
      "metadata": {
        "colab": {
          "base_uri": "https://localhost:8080/"
        },
        "id": "S84Fj1cTt2Fm",
        "outputId": "d4256ddc-bf1e-4cea-fa0c-ed9d5b416c6b"
      },
      "execution_count": null,
      "outputs": [
        {
          "output_type": "execute_result",
          "data": {
            "text/plain": [
              "StackingClassifier(estimators=[('NN1',\n",
              "                                <keras.wrappers.scikit_learn.KerasClassifier object at 0x7efefc9b7310>),\n",
              "                               ('NN2',\n",
              "                                <keras.wrappers.scikit_learn.KerasClassifier object at 0x7efefc9c3310>),\n",
              "                               ('NN3',\n",
              "                                <keras.wrappers.scikit_learn.KerasClassifier object at 0x7efefc9b7cd0>),\n",
              "                               ('NN4',\n",
              "                                <keras.wrappers.scikit_learn.KerasClassifier object at 0x7efefc9b7e50>),\n",
              "                               ('NN5',\n",
              "                                <keras.wrappers.scikit_learn.KerasClassifier object at 0x7efefc9b7b50>)],\n",
              "                   final_estimator=MLPClassifier())"
            ]
          },
          "metadata": {},
          "execution_count": 22
        }
      ]
    },
    {
      "cell_type": "code",
      "source": [
        "ypred = clf.predict(X_test)"
      ],
      "metadata": {
        "id": "fUJVftlYt4sj"
      },
      "execution_count": null,
      "outputs": []
    },
    {
      "cell_type": "code",
      "source": [
        "ypred"
      ],
      "metadata": {
        "colab": {
          "base_uri": "https://localhost:8080/"
        },
        "id": "o0fUkyjTt8BN",
        "outputId": "7ec0980c-2540-4643-8be1-c28babaf56d8"
      },
      "execution_count": null,
      "outputs": [
        {
          "output_type": "execute_result",
          "data": {
            "text/plain": [
              "array([0, 1, 0, 0, 1, 1, 1, 1, 1, 1, 1, 1, 0, 1, 0, 1, 1, 1, 0, 0, 1, 0,\n",
              "       1, 0, 1, 0, 1, 1, 0, 1])"
            ]
          },
          "metadata": {},
          "execution_count": 24
        }
      ]
    },
    {
      "cell_type": "code",
      "source": [
        ""
      ],
      "metadata": {
        "id": "cgj6yzE3t8iQ"
      },
      "execution_count": null,
      "outputs": []
    }
  ]
}